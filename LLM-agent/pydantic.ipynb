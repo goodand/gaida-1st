{
 "cells": [
  {
   "cell_type": "markdown",
   "id": "00b49825",
   "metadata": {},
   "source": [
    "# pydantic\n",
    "'pydantic.ipynb'\n",
    "\n",
    "- 파이썬 데이어 검증 라이브러리"
   ]
  },
  {
   "cell_type": "markdown",
   "id": "2a7b9e21",
   "metadata": {},
   "source": [
    "랭체인이 의존하는 라이브러리\n",
    "\n"
   ]
  },
  {
   "cell_type": "code",
   "execution_count": 2,
   "id": "3b054386",
   "metadata": {},
   "outputs": [
    {
     "data": {
      "text/plain": [
       "{'id': 1, 'name': 'neo', 'is_active': True}"
      ]
     },
     "execution_count": 2,
     "metadata": {},
     "output_type": "execute_result"
    }
   ],
   "source": [
    "from pydantic import BaseModel # 부모 클래스\n",
    "\n",
    "# BaseModel : 데이터 검증용 클래스를 만들기 위한 부모 클래스\n",
    "\n",
    "\"\"\" \n",
    "{\n",
    "    \"id\" = 1,\n",
    "\n",
    "\n",
    "}\n",
    "\n",
    "\"\"\"\n",
    "# 외부에서 위에 있는 것처럼 온다면\n",
    "\n",
    "# if type(data['id'])\n",
    "\n",
    "# 데이터 검증을 포함한 클래스\n",
    "class User(BaseModel):\n",
    "    id : int\n",
    "    name : str\n",
    "    is_active: bool = True \n",
    "\n",
    "u1 = User(id=1,name='neo')\n",
    "\n",
    "u1.model_dump()\n",
    "\n",
    "# 파이썬 객체 => 딕셔너리 : 변환 용이성 \n"
   ]
  },
  {
   "cell_type": "code",
   "execution_count": 4,
   "id": "ef2ffd15",
   "metadata": {},
   "outputs": [],
   "source": [
    "from pydantic import Field\n",
    "\n",
    "class Order(BaseModel):\n",
    "    quantity : int = Field(gt = 0, description='주문 수량(0초과)') # 추가 제약 조건\n",
    "    price : float = Field(ge=100, description='최소 단가 100원 이상')\n",
    "\n",
    "o1 = Order(quantity=3, price=300)\n",
    "# o2 = Order(quantity=0, price=50)\n",
    "\n",
    "\n"
   ]
  },
  {
   "cell_type": "code",
   "execution_count": null,
   "id": "a69913d2",
   "metadata": {},
   "outputs": [
    {
     "ename": "ValidationError",
     "evalue": "1 validation error for Account\npassword\n  Value error, 비밀번호는 8자 이상이여야 합니다. [type=value_error, input_value='short', input_type=str]\n    For further information visit https://errors.pydantic.dev/2.11/v/value_error",
     "output_type": "error",
     "traceback": [
      "\u001b[31m---------------------------------------------------------------------------\u001b[39m",
      "\u001b[31mValidationError\u001b[39m                           Traceback (most recent call last)",
      "\u001b[36mCell\u001b[39m\u001b[36m \u001b[39m\u001b[32mIn[8]\u001b[39m\u001b[32m, line 13\u001b[39m\n\u001b[32m     10\u001b[39m             \u001b[38;5;28;01mraise\u001b[39;00m \u001b[38;5;167;01mValueError\u001b[39;00m(\u001b[33m'\u001b[39m\u001b[33m비밀번호는 8자 이상이여야 합니다.\u001b[39m\u001b[33m'\u001b[39m)\n\u001b[32m     11\u001b[39m         \u001b[38;5;28;01mreturn\u001b[39;00m V\n\u001b[32m---> \u001b[39m\u001b[32m13\u001b[39m a = \u001b[43mAccount\u001b[49m\u001b[43m(\u001b[49m\u001b[43musername\u001b[49m\u001b[43m=\u001b[49m\u001b[33;43m'\u001b[39;49m\u001b[33;43mbob\u001b[39;49m\u001b[33;43m'\u001b[39;49m\u001b[43m,\u001b[49m\u001b[43m \u001b[49m\u001b[43mpassword\u001b[49m\u001b[43m \u001b[49m\u001b[43m=\u001b[49m\u001b[43m \u001b[49m\u001b[33;43m'\u001b[39;49m\u001b[33;43mshort\u001b[39;49m\u001b[33;43m'\u001b[39;49m\u001b[43m)\u001b[49m \n",
      "\u001b[36mFile \u001b[39m\u001b[32m~/Desktop/gaida-1st/LLM-agent/.venv/lib/python3.13/site-packages/pydantic/main.py:253\u001b[39m, in \u001b[36mBaseModel.__init__\u001b[39m\u001b[34m(self, **data)\u001b[39m\n\u001b[32m    251\u001b[39m \u001b[38;5;66;03m# `__tracebackhide__` tells pytest and some other tools to omit this function from tracebacks\u001b[39;00m\n\u001b[32m    252\u001b[39m __tracebackhide__ = \u001b[38;5;28;01mTrue\u001b[39;00m\n\u001b[32m--> \u001b[39m\u001b[32m253\u001b[39m validated_self = \u001b[38;5;28;43mself\u001b[39;49m\u001b[43m.\u001b[49m\u001b[43m__pydantic_validator__\u001b[49m\u001b[43m.\u001b[49m\u001b[43mvalidate_python\u001b[49m\u001b[43m(\u001b[49m\u001b[43mdata\u001b[49m\u001b[43m,\u001b[49m\u001b[43m \u001b[49m\u001b[43mself_instance\u001b[49m\u001b[43m=\u001b[49m\u001b[38;5;28;43mself\u001b[39;49m\u001b[43m)\u001b[49m\n\u001b[32m    254\u001b[39m \u001b[38;5;28;01mif\u001b[39;00m \u001b[38;5;28mself\u001b[39m \u001b[38;5;129;01mis\u001b[39;00m \u001b[38;5;129;01mnot\u001b[39;00m validated_self:\n\u001b[32m    255\u001b[39m     warnings.warn(\n\u001b[32m    256\u001b[39m         \u001b[33m'\u001b[39m\u001b[33mA custom validator is returning a value other than `self`.\u001b[39m\u001b[38;5;130;01m\\n\u001b[39;00m\u001b[33m'\u001b[39m\n\u001b[32m    257\u001b[39m         \u001b[33m\"\u001b[39m\u001b[33mReturning anything other than `self` from a top level model validator isn\u001b[39m\u001b[33m'\u001b[39m\u001b[33mt supported when validating via `__init__`.\u001b[39m\u001b[38;5;130;01m\\n\u001b[39;00m\u001b[33m\"\u001b[39m\n\u001b[32m    258\u001b[39m         \u001b[33m'\u001b[39m\u001b[33mSee the `model_validator` docs (https://docs.pydantic.dev/latest/concepts/validators/#model-validators) for more details.\u001b[39m\u001b[33m'\u001b[39m,\n\u001b[32m    259\u001b[39m         stacklevel=\u001b[32m2\u001b[39m,\n\u001b[32m    260\u001b[39m     )\n",
      "\u001b[31mValidationError\u001b[39m: 1 validation error for Account\npassword\n  Value error, 비밀번호는 8자 이상이여야 합니다. [type=value_error, input_value='short', input_type=str]\n    For further information visit https://errors.pydantic.dev/2.11/v/value_error"
     ]
    }
   ],
   "source": [
    "from pydantic import field_validator\n",
    "\n",
    "class Account(BaseModel):\n",
    "    username : str\n",
    "    password : str\n",
    "\n",
    "    @field_validator('password')\n",
    "    def check_password_length(cls, v):\n",
    "        if len(v) < 8:\n",
    "            raise ValueError('비밀번호는 8자 이상이여야 합니다.')\n",
    "        return V\n",
    "    \n",
    "a = Account(username='bob', password = 'short') \n",
    "\n",
    "\n",
    "\n",
    "         "
   ]
  },
  {
   "cell_type": "code",
   "execution_count": null,
   "id": "766385cd",
   "metadata": {},
   "outputs": [],
   "source": [
    "# pynantic으로 랭체인에서 출력 형식을 지정 할 수 있음"
   ]
  }
 ],
 "metadata": {
  "kernelspec": {
   "display_name": ".venv",
   "language": "python",
   "name": "python3"
  },
  "language_info": {
   "codemirror_mode": {
    "name": "ipython",
    "version": 3
   },
   "file_extension": ".py",
   "mimetype": "text/x-python",
   "name": "python",
   "nbconvert_exporter": "python",
   "pygments_lexer": "ipython3",
   "version": "3.13.6"
  }
 },
 "nbformat": 4,
 "nbformat_minor": 5
}

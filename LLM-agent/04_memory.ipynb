{
 "cells": [
  {
   "cell_type": "markdown",
   "id": "7859ad4a",
   "metadata": {},
   "source": [
    "# memory\n",
    "\n",
    "'04_memory.ipynb' \n",
    "\n",
    "- 대화 내용을 기억 \n",
    "- LLM은 대화 내용을 기억하지 않는다.(stateless)\n",
    "- 이전 대화 내용을 계속 프롬프트에 주입해야 함\n",
    "- \n",
    "\n",
    "1. Short-Term : 한 대화 세션에 대한 기억\n",
    "2. Long-Term : 전체 세션에 대한 중요한 정보 \n",
    "\n",
    "데이터베이스-디스크 저장\n",
    "램 저장\n"
   ]
  },
  {
   "cell_type": "markdown",
   "id": "8f225304",
   "metadata": {},
   "source": [
    "# ConversationBufferMemory\n",
    "- 메시지 저장 -> 변수에서 추출 가능"
   ]
  },
  {
   "cell_type": "code",
   "execution_count": 1,
   "id": "8fbcfe9d",
   "metadata": {},
   "outputs": [
    {
     "name": "stdout",
     "output_type": "stream",
     "text": [
      "{'history': 'Human: 안녕 나는 비대면 은행 계좌를 개설하고 싶어. 어찌해야함?\\nAI: 좋아. 우선 신분증을 준비해 줘'}\n",
      "{'history': 'Human: 안녕 나는 비대면 은행 계좌를 개설하고 싶어. 어찌해야함?\\nAI: 좋아. 우선 신분증을 준비해 줘\\nHuman: 좋아. 준비했어\\nAI: 앞면을 잘 촬영해서 업로드 해줘.'}\n"
     ]
    },
    {
     "name": "stderr",
     "output_type": "stream",
     "text": [
      "/var/folders/1p/yb8d7hmx6wd564h57_td4k140000gn/T/ipykernel_23187/1673803115.py:3: LangChainDeprecationWarning: Please see the migration guide at: https://python.langchain.com/docs/versions/migrating_memory/\n",
      "  memory =  ConversationBufferMemory()\n"
     ]
    }
   ],
   "source": [
    "from langchain.memory import ConversationBufferMemory\n",
    "\n",
    "memory =  ConversationBufferMemory()\n",
    "memory.save_context(\n",
    "    inputs={\n",
    "        'human': '안녕 나는 비대면 은행 계좌를 개설하고 싶어. 어찌해야함?'\n",
    "    },\n",
    "    outputs={\n",
    "        'ai': '좋아. 우선 신분증을 준비해 줘'\n",
    "    }\n",
    ")\n",
    "print(memory.load_memory_variables({}))\n",
    "\n",
    "memory.save_context(\n",
    "    inputs={'human': '좋아. 준비했어'},\n",
    "    outputs={'ai': '앞면을 잘 촬영해서 업로드 해줘.'}\n",
    ")\n",
    "print(memory.load_memory_variables({}))"
   ]
  },
  {
   "cell_type": "code",
   "execution_count": null,
   "id": "37c0c522",
   "metadata": {},
   "outputs": [],
   "source": [
    "from langchain_openai import ChatOpenAI\n",
    "from langchain.prompts import ChatPromptTemplate\n",
    "from langchain.chains import ConversationChain\n",
    "\n",
    "prompt = ChatPromptTemplate.from_message()\n",
    "\n",
    "# temperature => 랜덤성(0~1)\n",
    "llm = ChatOpenAI(model='gpt-4.1-nano',temperature=0) # NS \n",
    "\n",
    "Conversation = ConversationChain(\n",
    "    llm = llm,\n",
    "    memory = ConversationBufferMemory()\n",
    ")\n",
    "\n",
    "response = conversation.invoke({''})"
   ]
  }
 ],
 "metadata": {
  "kernelspec": {
   "display_name": ".venv",
   "language": "python",
   "name": "python3"
  },
  "language_info": {
   "codemirror_mode": {
    "name": "ipython",
    "version": 3
   },
   "file_extension": ".py",
   "mimetype": "text/x-python",
   "name": "python",
   "nbconvert_exporter": "python",
   "pygments_lexer": "ipython3",
   "version": "3.13.6"
  }
 },
 "nbformat": 4,
 "nbformat_minor": 5
}

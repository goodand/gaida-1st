{
 "cells": [
  {
   "cell_type": "code",
   "execution_count": null,
   "id": "d33ec570",
   "metadata": {},
   "outputs": [],
   "source": []
  },
  {
   "cell_type": "markdown",
   "id": "5a148f51",
   "metadata": {},
   "source": [
    "2 D list\n",
    "\n",
    "# 5*5 판에서  2*2부분 사각형의 요소 총합 최대값을 구하시오 \n",
    "\n",
    "\n",
    "N, M = 5, 2\n",
    "\n",
    "# 5 * 5 판에서 2 * 2 부분사각형의 요소 총합 최대값을 구하시오. (49 가 나와야함)\n",
    "# 무식하게 모두 비교한다.\n",
    "board = [\n",
    "    [1, 3, 3, 6, 7],\n",
    "    [8, 13, 9, 12, 8],\n",
    "    [4, 16, 11, 12, 6],\n",
    "    [2, 4, 1, 23, 2],\n",
    "    [9, 13, 4, 7, 3]\n",
    "]\n"
   ]
  },
  {
   "cell_type": "code",
   "execution_count": null,
   "id": "3d6f375c",
   "metadata": {},
   "outputs": [],
   "source": []
  }
 ],
 "metadata": {
  "language_info": {
   "name": "python"
  }
 },
 "nbformat": 4,
 "nbformat_minor": 5
}

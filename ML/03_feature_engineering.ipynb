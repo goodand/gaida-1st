{
 "cells": [
  {
   "cell_type": "markdown",
   "id": "a9fa9888",
   "metadata": {},
   "source": [
    "03_feature_engineering.ipynb"
   ]
  },
  {
   "cell_type": "markdown",
   "id": "b4047517",
   "metadata": {},
   "source": [
    "# 특성 공학 (Feature Engineering)"
   ]
  },
  {
   "cell_type": "code",
   "execution_count": 1,
   "id": "a1bd513c",
   "metadata": {},
   "outputs": [
    {
     "name": "stdout",
     "output_type": "stream",
     "text": [
      "[ 9.07538153 69.46401443 38.00385678] -599.1708082981095\n",
      "0.9559326821885706\n",
      "0.8796419177546367\n"
     ]
    },
    {
     "data": {
      "text/plain": [
       "array([[ 2.,  3.,  5.,  4.,  6., 10.,  9., 15., 25.]])"
      ]
     },
     "execution_count": 1,
     "metadata": {},
     "output_type": "execute_result"
    }
   ],
   "source": [
    "import numpy as np\n",
    "import pandas as pd\n",
    "df = pd.read_csv('./perch.csv')\n",
    "perch_data = df.to_numpy()\n",
    "perch_weight = np.array([5.9, 32.0, 40.0, 51.5, 70.0, 100.0, 78.0, 80.0, 85.0, 85.0, 110.0,\n",
    "       115.0, 125.0, 130.0, 120.0, 120.0, 130.0, 135.0, 110.0, 130.0,\n",
    "       150.0, 145.0, 150.0, 170.0, 225.0, 145.0, 188.0, 180.0, 197.0,\n",
    "       218.0, 300.0, 260.0, 265.0, 250.0, 250.0, 300.0, 320.0, 514.0,\n",
    "       556.0, 840.0, 685.0, 700.0, 700.0, 690.0, 900.0, 650.0, 820.0,\n",
    "       850.0, 900.0, 1015.0, 820.0, 1100.0, 1000.0, 1100.0, 1000.0,\n",
    "       1000.0])\n",
    "from sklearn.model_selection import train_test_split\n",
    "X_train, X_test, y_train, y_test = train_test_split(perch_data, perch_weight, random_state=42)\n",
    "from sklearn.linear_model import LinearRegression\n",
    "lr = LinearRegression()\n",
    "lr.fit(X_train, y_train)\n",
    "print(lr.coef_, lr.intercept_)\n",
    "print(lr.score(X_train, y_train))\n",
    "print(lr.score(X_test, y_test))\n",
    "from sklearn.preprocessing import PolynomialFeatures\n",
    "poly = PolynomialFeatures(include_bias=False)\n",
    "poly.fit([[2, 3, 5]])\n",
    "poly.transform([[2, 3, 5]])"
   ]
  },
  {
   "cell_type": "code",
   "execution_count": 4,
   "id": "50bd3307",
   "metadata": {},
   "outputs": [],
   "source": [
    "from sklearn.model_selection import train_test_split\n",
    "\n",
    "X_train, X_test, y_train, y_test = train_test_split(perch_data, perch_weight, random_state=42)"
   ]
  },
  {
   "cell_type": "code",
   "execution_count": 5,
   "id": "fada1e72",
   "metadata": {},
   "outputs": [
    {
     "name": "stdout",
     "output_type": "stream",
     "text": [
      "0.9559326821885706\n",
      "0.8796419177546367\n"
     ]
    }
   ],
   "source": [
    "from sklearn.linear_model import LinearRegression\n",
    "\n",
    "lr = LinearRegression()\n",
    "lr.fit(X_train, y_train)\n",
    "print(lr.score(X_train,y_train))\n",
    "print(lr.score(X_test,y_test))\n"
   ]
  },
  {
   "cell_type": "code",
   "execution_count": 6,
   "id": "ab248f6e",
   "metadata": {},
   "outputs": [
    {
     "data": {
      "text/plain": [
       "array([[ 2.,  3.,  5.,  4.,  6., 10.,  9., 15., 25.]])"
      ]
     },
     "execution_count": 6,
     "metadata": {},
     "output_type": "execute_result"
    }
   ],
   "source": [
    "from sklearn.preprocessing import PolynomialFeatures\n",
    "\n",
    "poly = PolynomialFeatures(include_bias=False)\n",
    "poly.fit([[2,3,5]]) # 사이킷런에서는 fit이 의무라서 그런거지 크게 의미는 없다.\n",
    "poly.transform([[2,3,5]])\n",
    "\n",
    "\n",
    "# 계수(절편?)\n",
    "## array([[1., 2., 3., 4., 6., 9.]])"
   ]
  },
  {
   "cell_type": "code",
   "execution_count": 7,
   "id": "dc1eb140",
   "metadata": {},
   "outputs": [],
   "source": [
    "poly = PolynomialFeatures(include_bias=False)\n",
    "X_train_poly = poly.fit_transform(X_train)\n",
    "X_test_poly = poly.fit_transform(X_test) # ???\n",
    "\n",
    "\n",
    "\n",
    "# X_train_poly.shape\n",
    "# 데이터 갯수 42, 컬럼 9개\n",
    "## (42, 9)\n"
   ]
  },
  {
   "cell_type": "code",
   "execution_count": 8,
   "id": "19b21cf7",
   "metadata": {},
   "outputs": [
    {
     "name": "stdout",
     "output_type": "stream",
     "text": [
      "[  34.80604039  -88.68430232 -184.11606694   -2.2696004     8.74890226\n",
      "    9.41670602   27.76120631 -119.89306061   93.68198334] 124.065217722336\n"
     ]
    }
   ],
   "source": [
    "lr_p = LinearRegression()\n",
    "lr.fit(X_train_poly, y_train)\n",
    "lr.coef_, lr.intercept_\n",
    "\n",
    "print(lr.coef_,lr.intercept_)"
   ]
  },
  {
   "cell_type": "code",
   "execution_count": 9,
   "id": "517c36cc",
   "metadata": {},
   "outputs": [
    {
     "data": {
      "text/plain": [
       "-144.4049046409093"
      ]
     },
     "execution_count": 9,
     "metadata": {},
     "output_type": "execute_result"
    }
   ],
   "source": [
    "poly = PolynomialFeatures(degree=5, include_bias=False)\n",
    "X_train_p5 = poly.fit_transform(X_train)\n",
    "X_test_p5 = poly.fit_transform(X_test)\n",
    "X_train_p5.shape\n",
    "\n",
    "# 초 과대 적합(Overfitting) -> 훈련셋에는 완벽한데, 테스트는 망한\n",
    "lr.fit(X_train_p5, y_train)\n",
    "lr.score(X_train_p5, y_train)\n",
    "lr.score(X_test_p5, y_test)"
   ]
  },
  {
   "cell_type": "markdown",
   "id": "9ebde814",
   "metadata": {},
   "source": [
    "# 규제 (Regularization)\n",
    "\n",
    "과대 적합(Overfitting) 방지\n",
    "\n",
    "- 릿지(ridge) 회귀 : 계수를 제곱한 값을 기준으로 규제\n",
    "- 라쏘(lasso) 회귀 : 절댓값 기준으로 규제"
   ]
  },
  {
   "cell_type": "code",
   "execution_count": null,
   "id": "baa28917",
   "metadata": {},
   "outputs": [],
   "source": [
    "from sklearn.preprocessing import StandardScaler\n",
    "\n",
    "ss = StandardScaler()\n",
    "\n",
    "# 훈련셋으로 스케일링 학습\n",
    "ss.fit(X_train_p5)\n",
    "\n",
    "# 훈련 & 테스트 모두 훈련셋 기준으로 스케일링 진행\n",
    "X_train_scaled = ss.transform(X_train_p5)\n",
    "X_test_scaled = ss.transform(X_test_p5)"
   ]
  },
  {
   "cell_type": "code",
   "execution_count": 14,
   "id": "cd9a75b0",
   "metadata": {},
   "outputs": [
    {
     "name": "stdout",
     "output_type": "stream",
     "text": [
      "0.988728468997471\n",
      "0.9725329582461568\n"
     ]
    }
   ],
   "source": [
    "from sklearn.linear_model import Ridge\n",
    "\n",
    "ridge = Ridge(alpha=10) # alpha계수가 학습 할 때 건드릴 수 있는거 하이퍼 파라미터\n",
    "ridge.fit(X_train_scaled, y_train)\n",
    "print(ridge.score(X_train_scaled,y_train))\n",
    "print(ridge.score(X_test_scaled,y_test))\n",
    "\n",
    "\n"
   ]
  },
  {
   "cell_type": "code",
   "execution_count": 17,
   "id": "56957813",
   "metadata": {},
   "outputs": [
    {
     "data": {
      "text/plain": [
       "[<matplotlib.lines.Line2D at 0x280d4c640>]"
      ]
     },
     "execution_count": 17,
     "metadata": {},
     "output_type": "execute_result"
    },
    {
     "data": {
      "image/png": "[encoded data removed]",
      "text/plain": [
       "<Figure size 640x480 with 1 Axes>"
      ]
     },
     "metadata": {},
     "output_type": "display_data"
    }
   ],
   "source": [
    "import matplotlib.pyplot as plt\n",
    "\n",
    "train_score = []\n",
    "test_score = []\n",
    "\n",
    "alpha_list = [0.001,0.001, 0.05, 0.1, 0.5, 1, 10, 100]\n",
    "\n",
    "for alpha in alpha_list:\n",
    "    ridge = Ridge(alpha=alpha)\n",
    "    ridge.fit(X_train_scaled, y_train)\n",
    "    s1 = ridge.score(X_train_scaled, y_train)\n",
    "    s2 = ridge.score(X_test_scaled, y_test)\n",
    "    train_score.append(s1)\n",
    "    test_score.append(s2)\n",
    "\n",
    "plt.plot(np.log10(alpha_list),train_score)\n",
    "plt.plot(np.log10(alpha_list),test_score)\n",
    "\n",
    "# 그래프상 -1이니깐 로그 10의 -1승이면 0.1\n"
   ]
  },
  {
   "cell_type": "code",
   "execution_count": 19,
   "id": "67616685",
   "metadata": {},
   "outputs": [
    {
     "name": "stdout",
     "output_type": "stream",
     "text": [
      "0.9907126320312711 0.9832630119139699\n"
     ]
    }
   ],
   "source": [
    "# alpha 값을 위에서 구해\n",
    "ridge = Ridge(alpha=0.05)\n",
    "ridge.fit(X_train_scaled, y_train)\n",
    "s1 = ridge.score(X_train_scaled, y_train)\n",
    "s2 = ridge.score(X_test_scaled, y_test)\n",
    "print(s1, s2)\n",
    "\n"
   ]
  },
  {
   "cell_type": "code",
   "execution_count": 20,
   "id": "91dd82d3",
   "metadata": {},
   "outputs": [
    {
     "name": "stderr",
     "output_type": "stream",
     "text": [
      "/Users/jaehyuntak/Library/Python/3.9/lib/python/site-packages/sklearn/linear_model/_coordinate_descent.py:695: ConvergenceWarning: Objective did not converge. You might want to increase the number of iterations, check the scale of the features or consider increasing regularisation. Duality gap: 1.878e+04, tolerance: 5.183e+02\n",
      "  model = cd_fast.enet_coordinate_descent(\n",
      "/Users/jaehyuntak/Library/Python/3.9/lib/python/site-packages/sklearn/linear_model/_coordinate_descent.py:695: ConvergenceWarning: Objective did not converge. You might want to increase the number of iterations, check the scale of the features or consider increasing regularisation. Duality gap: 1.878e+04, tolerance: 5.183e+02\n",
      "  model = cd_fast.enet_coordinate_descent(\n",
      "/Users/jaehyuntak/Library/Python/3.9/lib/python/site-packages/sklearn/linear_model/_coordinate_descent.py:695: ConvergenceWarning: Objective did not converge. You might want to increase the number of iterations, check the scale of the features or consider increasing regularisation. Duality gap: 1.830e+03, tolerance: 5.183e+02\n",
      "  model = cd_fast.enet_coordinate_descent(\n"
     ]
    },
    {
     "data": {
      "text/plain": [
       "[<matplotlib.lines.Line2D at 0x280e21310>]"
      ]
     },
     "execution_count": 20,
     "metadata": {},
     "output_type": "execute_result"
    },
    {
     "data": {
      "image/png": "[encoded data removed]",
      "text/plain": [
       "<Figure size 640x480 with 1 Axes>"
      ]
     },
     "metadata": {},
     "output_type": "display_data"
    }
   ],
   "source": [
    "from sklearn.linear_model import Lasso\n",
    "\n",
    "train_score = []\n",
    "test_score = []\n",
    "\n",
    "alpha_list = [0.001,0.001, 0.05, 0.1, 0.5, 1, 10, 100]\n",
    "\n",
    "for alpha in alpha_list:\n",
    "    lasso = Lasso(alpha=alpha, max_iter=10000)\n",
    "    lasso.fit(X_train_scaled, y_train)\n",
    "    s1 = lasso.score(X_train_scaled, y_train)\n",
    "    s2 = lasso.score(X_test_scaled, y_test)\n",
    "    train_score.append(s1)\n",
    "    test_score.append(s2)\n",
    "\n",
    "plt.plot(np.log10(alpha_list),train_score)\n",
    "plt.plot(np.log10(alpha_list),test_score)"
   ]
  },
  {
   "cell_type": "code",
   "execution_count": 21,
   "id": "989d7a91",
   "metadata": {},
   "outputs": [
    {
     "name": "stdout",
     "output_type": "stream",
     "text": [
      "0.9887624603020236 0.9830309645308442\n"
     ]
    },
    {
     "data": {
      "text/plain": [
       "array([31.53335736])"
      ]
     },
     "execution_count": 21,
     "metadata": {},
     "output_type": "execute_result"
    }
   ],
   "source": [
    "# alpha 값을 위에서 구해\n",
    "\n",
    "lasso = Lasso(alpha=10, max_iter = 10000)\n",
    "lasso.fit(X_train_scaled, y_train)\n",
    "\n",
    "s1 = lasso.score(X_train_scaled, y_train)\n",
    "s2 = lasso.score(X_test_scaled, y_test)\n",
    "print(s1, s2)\n",
    "\n",
    "X = poly.transform([[13.7, 3.53, 2]])\n",
    "X = ss.transform(X)\n",
    "lasso.predict(X)"
   ]
  }
 ],
 "metadata": {
  "kernelspec": {
   "display_name": "Python 3",
   "language": "python",
   "name": "python3"
  },
  "language_info": {
   "codemirror_mode": {
    "name": "ipython",
    "version": 3
   },
   "file_extension": ".py",
   "mimetype": "text/x-python",
   "name": "python",
   "nbconvert_exporter": "python",
   "pygments_lexer": "ipython3",
   "version": "3.9.6"
  }
 },
 "nbformat": 4,
 "nbformat_minor": 5
}

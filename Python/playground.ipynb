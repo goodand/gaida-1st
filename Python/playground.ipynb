{
 "cells": [
  {
   "cell_type": "code",
   "execution_count": null,
   "id": "84820045",
   "metadata": {},
   "outputs": [],
   "source": [
    "리스폰스, 리스퀘스트 : 서버 역할 정의\n",
    "- 리스폰스, 리스퀘스트\n"
   ]
  },
  {
   "cell_type": "code",
   "execution_count": 2,
   "id": "b9d5da7c",
   "metadata": {},
   "outputs": [],
   "source": [
    "## [파이썬_작동_시각화](https://pythontutor.com/visualize.html#mode=edit)\n",
    "\n",
    "## []"
   ]
  }
 ],
 "metadata": {
  "kernelspec": {
   "display_name": "Python 3",
   "language": "python",
   "name": "python3"
  },
  "language_info": {
   "codemirror_mode": {
    "name": "ipython",
    "version": 3
   },
   "file_extension": ".py",
   "mimetype": "text/x-python",
   "name": "python",
   "nbconvert_exporter": "python",
   "pygments_lexer": "ipython3",
   "version": "3.9.6"
  }
 },
 "nbformat": 4,
 "nbformat_minor": 5
}

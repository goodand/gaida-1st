{
 "cells": [
  {
   "cell_type": "code",
   "execution_count": null,
   "id": "3846fe3f",
   "metadata": {},
   "outputs": [],
   "source": [
    "# bot token : 7796995755:AAEcj1fwIEg-XjIHUoGe-pU39xCxznIpwkk\n",
    "\n",
    "from email import message\n",
    "\n",
    "\n",
    "bot_token = '7796995755:AAEcj1fwIEg-XjIHUoGe-pU39xCxznIpwkk'\n",
    "\n",
    "bot_name = \"weight_working_bot\" \n",
    "\n",
    "\n"
   ]
  },
  {
   "cell_type": "code",
   "execution_count": 13,
   "id": "83c08da3",
   "metadata": {},
   "outputs": [],
   "source": [
    "\n",
    "#  공식문서 참조 : https://api.telegram.org/bot123456:ABC-DEF1234ghIkl-zyx57W2v1u123ew11/getMe\n",
    "\n",
    "URL = f'https://api.telegram.org/bot{bot_token}'\n",
    "\n"
   ]
  },
  {
   "cell_type": "markdown",
   "id": "18c12f9a",
   "metadata": {},
   "source": [
    "URL + 'getMe'"
   ]
  },
  {
   "cell_type": "markdown",
   "id": "b78781d6",
   "metadata": {},
   "source": [
    "''' json from getMe\n",
    "{\n",
    "  \"ok\": true,\n",
    "  \"result\": {\n",
    "    \"id\": 7796995755,\n",
    "    \"is_bot\": true,\n",
    "    \"first_name\": \"working\",\n",
    "    \"username\": \"weight_working_bot\",\n",
    "    \"can_join_groups\": true,\n",
    "    \"can_read_all_group_messages\": false,\n",
    "    \"supports_inline_queries\": false,\n",
    "    \"can_connect_to_business\": false,\n",
    "    \"has_main_web_app\": false\n",
    "  }\n",
    "}\n",
    "\n",
    "별 말 없으면 대부분 get임"
   ]
  },
  {
   "cell_type": "code",
   "execution_count": 16,
   "id": "37005280",
   "metadata": {},
   "outputs": [
    {
     "name": "stdout",
     "output_type": "stream",
     "text": [
      "https://api.telegram.org/bot7796995755:AAEcj1fwIEg-XjIHUoGe-pU39xCxznIpwkk/Getme\n",
      "https://api.telegram.org/bot7796995755:AAEcj1fwIEg-XjIHUoGe-pU39xCxznIpwkk/getUpdates\n",
      "https://api.telegram.org/bot7796995755:AAEcj1fwIEg-XjIHUoGe-pU39xCxznIpwkk/getUpdates\n"
     ]
    }
   ],
   "source": [
    "print(URL+'/Getme')\n",
    "print(URL + '/getUpdates')\n",
    "\n",
    "asap = URL + '/getUpdates'\n",
    "\n",
    "print(asap)"
   ]
  },
  {
   "cell_type": "code",
   "execution_count": null,
   "id": "0e650ebb",
   "metadata": {},
   "outputs": [],
   "source": []
  },
  {
   "cell_type": "code",
   "execution_count": null,
   "id": "e3ee59b8",
   "metadata": {},
   "outputs": [
    {
     "name": "stdout",
     "output_type": "stream",
     "text": [
      "https://api.telegram.org/bot7796995755:AAEcj1fwIEg-XjIHUoGe-pU39xCxznIpwkk/sendMessage\n",
      "https://api.telegram.org/bot7796995755:AAEcj1fwIEg-XjIHUoGe-pU39xCxznIpwkk/sendMessagechat_id=6682310905&text=으어어\n"
     ]
    }
   ],
   "source": [
    "# 답장을 위한 상대방 id\n",
    "\n",
    "my_id = '6682310905'\n",
    "\n",
    "message = '으어어'\n",
    "chat_id = my_id \n",
    "\n",
    "message_ids = message\n",
    "print(URL + '/sendMessage')\n",
    "print(URL + '/sendMessage'+ f'chat_id={my_id}&text={message}') # http에 넣을껄 공식 문서에서 찾아야 함  #URL에 녹어야 하는데 Key-Value를 녹이는 법을 알아야 함"
   ]
  },
  {
   "cell_type": "code",
   "execution_count": 25,
   "id": "0623f485",
   "metadata": {},
   "outputs": [],
   "source": [
    "data = {\n",
    "    \"ok\": True, # 소문자, 대문자만 변경\n",
    "    \"result\": [\n",
    "        {\n",
    "            \"update_id\": 772203483,\n",
    "            \"message\": {\n",
    "                \"message_id\": 1,\n",
    "                \"from\": {\n",
    "                    \"id\": 6682310905,\n",
    "                    \"first_name\": \"JH\",\n",
    "                    \"last_name\": \"Tak\",\n",
    "                    \"language_code\": \"en\"\n",
    "                },\n",
    "                \"chat\": {\n",
    "                    \"id\": 6682310905,\n",
    "                    \"first_name\": \"JH\",\n",
    "                    \"last_name\": \"Tak\",\n",
    "                    \"type\": \"private\"\n",
    "                },\n",
    "                \"date\": 1753323153,\n",
    "                \"text\": \"/start\",\n",
    "                \"entities\": [\n",
    "                    {\n",
    "                        \"offset\": 0,\n",
    "                        \"length\": 6,\n",
    "                        \"type\": \"bot_command\"\n",
    "                    }\n",
    "                ]\n",
    "            }\n",
    "        },\n",
    "        {\n",
    "            \"update_id\": 772203484,\n",
    "            \"message\": {\n",
    "                \"message_id\": 2,\n",
    "                \"from\": {\n",
    "                    \"id\": 6682310905,\n",
    "                    \"is_bot\": False,\n",
    "                    \"first_name\": \"JH\",\n",
    "                    \"last_name\": \"Tak\",\n",
    "                    \"language_code\": \"en\"\n",
    "                },\n",
    "                \"chat\": {\n",
    "                    \"id\": 6682310905,\n",
    "                    \"first_name\": \"JH\",\n",
    "                    \"last_name\": \"Tak\",\n",
    "                    \"type\": \"private\"\n",
    "                },\n",
    "                \"date\": 1753323687,\n",
    "                \"text\": \"뭐 먹을까?\"\n",
    "            }\n",
    "        },\n",
    "        {\n",
    "            \"update_id\": 772203485,\n",
    "            \"message\": {\n",
    "                \"message_id\": 4,\n",
    "                \"from\": {\n",
    "                    \"id\": 6682310905,\n",
    "                    \"is_bot\": False,\n",
    "                    \"first_name\": \"JH\",\n",
    "                    \"last_name\": \"Tak\",\n",
    "                    \"language_code\": \"en\"\n",
    "                },\n",
    "                \"chat\": {\n",
    "                    \"id\": 6682310905,\n",
    "                    \"first_name\": \"JH\",\n",
    "                    \"last_name\": \"Tak\",\n",
    "                    \"type\": \"private\"\n",
    "                },\n",
    "                \"date\": 1753330847,\n",
    "                \"text\": \"로또\"\n",
    "            }\n",
    "        }\n",
    "    ]\n",
    "}"
   ]
  },
  {
   "cell_type": "code",
   "execution_count": null,
   "id": "7e42ffcc",
   "metadata": {},
   "outputs": [
    {
     "data": {
      "text/plain": [
       "{'ok': True,\n",
       " 'result': [{'update_id': 772203483,\n",
       "   'message': {'message_id': 1,\n",
       "    'from': {'id': 6682310905,\n",
       "     'is_bot': False,\n",
       "     'first_name': 'JH',\n",
       "     'last_name': 'Tak',\n",
       "     'language_code': 'en'},\n",
       "    'chat': {'id': 6682310905,\n",
       "     'first_name': 'JH',\n",
       "     'last_name': 'Tak',\n",
       "     'type': 'private'},\n",
       "    'date': 1753323153,\n",
       "    'text': '/start',\n",
       "    'entities': [{'offset': 0, 'length': 6, 'type': 'bot_command'}]}},\n",
       "  {'update_id': 772203484,\n",
       "   'message': {'message_id': 2,\n",
       "    'from': {'id': 6682310905,\n",
       "     'is_bot': False,\n",
       "     'first_name': 'JH',\n",
       "     'last_name': 'Tak',\n",
       "     'language_code': 'en'},\n",
       "    'chat': {'id': 6682310905,\n",
       "     'first_name': 'JH',\n",
       "     'last_name': 'Tak',\n",
       "     'type': 'private'},\n",
       "    'date': 1753323687,\n",
       "    'text': '뭐 먹을까?'}},\n",
       "  {'update_id': 772203485,\n",
       "   'message': {'message_id': 4,\n",
       "    'from': {'id': 6682310905,\n",
       "     'is_bot': False,\n",
       "     'first_name': 'JH',\n",
       "     'last_name': 'Tak',\n",
       "     'language_code': 'en'},\n",
       "    'chat': {'id': 6682310905,\n",
       "     'first_name': 'JH',\n",
       "     'last_name': 'Tak',\n",
       "     'type': 'private'},\n",
       "    'date': 1753330847,\n",
       "    'text': '로또'}}]}"
      ]
     },
     "execution_count": 36,
     "metadata": {},
     "output_type": "execute_result"
    }
   ],
   "source": [
    "# 세팅 공통\n",
    "import requests\n",
    "# get updates로 요청 보내고 -> 응답 json을 받아서 저장,\n",
    "data = requests.get(URL +'/getUpdates').json()\n",
    "\n",
    "data\n"
   ]
  },
  {
   "cell_type": "code",
   "execution_count": null,
   "id": "810fc09c",
   "metadata": {},
   "outputs": [],
   "source": []
  },
  {
   "cell_type": "code",
   "execution_count": 63,
   "id": "44d5ddbc",
   "metadata": {},
   "outputs": [
    {
     "name": "stdout",
     "output_type": "stream",
     "text": [
      "에에 6682310905\n"
     ]
    }
   ],
   "source": [
    "# 봇 업데이트 받아서, 마지막 메시지 & 유저 받아오기\n",
    "\n",
    "# get updates로 요청 보내고 -> 응답 json을 받아서 저장,\n",
    "\n",
    "data = requests.get(URL +'/getUpdates').json()\n",
    "\n",
    "# 데이터 안의 마지막 메시지의 text(내용)을 뽑아라\n",
    "input_msg = data[\"result\"][-1][\"message\"][\"text\"]\n",
    "\n",
    "# 마지막 데이터의 보낸사람 id 뽑기\n",
    "sender_id = data[\"result\"][-1][\"message\"][\"from\"]['id']\n",
    "\n",
    "print(input_msg,sender_id)"
   ]
  },
  {
   "cell_type": "code",
   "execution_count": 66,
   "id": "960ecff0",
   "metadata": {},
   "outputs": [
    {
     "name": "stdout",
     "output_type": "stream",
     "text": [
      "몰루\n"
     ]
    }
   ],
   "source": [
    "# 메시지가 로또면, 로또번호 6개 만들어서 보내기 \n",
    "\n",
    "\n",
    "import random\n",
    "\n",
    "# 로또 ramdom.sample(range1,46,6)\n",
    "\n",
    "\n",
    "# if last_text == \"로또\":\n",
    "\n",
    "if input_msg in ('로또','가즈아'):\n",
    "    output_msg = str(random.sample(range(1,46),6))\n",
    "else:\n",
    "    output_msg = '몰루'\n",
    "\n",
    "\n",
    "print(output_msg)\n"
   ]
  },
  {
   "cell_type": "code",
   "execution_count": 67,
   "id": "208deeda",
   "metadata": {},
   "outputs": [
    {
     "data": {
      "text/plain": [
       "{'ok': True,\n",
       " 'result': {'message_id': 26,\n",
       "  'from': {'id': 7796995755,\n",
       "   'is_bot': True,\n",
       "   'first_name': 'working',\n",
       "   'username': 'weight_working_bot'},\n",
       "  'chat': {'id': 6682310905,\n",
       "   'first_name': 'JH',\n",
       "   'last_name': 'Tak',\n",
       "   'type': 'private'},\n",
       "  'date': 1753337450,\n",
       "  'text': '몰루'}}"
      ]
     },
     "execution_count": 67,
     "metadata": {},
     "output_type": "execute_result"
    }
   ],
   "source": [
    "# 메시지 만들어서 전송\n",
    "body = {\n",
    "    'chat_id' : sender_id, # 챗 보낸 사람의 id \n",
    "    'text' : output_msg,\n",
    "}\n",
    "requests.get(URL +f'/sendMessage',body).json()"
   ]
  },
  {
   "cell_type": "code",
   "execution_count": null,
   "id": "f9e7dc40",
   "metadata": {},
   "outputs": [],
   "source": []
  },
  {
   "cell_type": "code",
   "execution_count": null,
   "id": "45659f8c",
   "metadata": {},
   "outputs": [],
   "source": []
  },
  {
   "cell_type": "code",
   "execution_count": null,
   "id": "467453dc",
   "metadata": {},
   "outputs": [],
   "source": []
  },
  {
   "cell_type": "code",
   "execution_count": null,
   "id": "736cd06b",
   "metadata": {},
   "outputs": [],
   "source": []
  },
  {
   "cell_type": "code",
   "execution_count": null,
   "id": "8bfe0134",
   "metadata": {},
   "outputs": [],
   "source": []
  }
 ],
 "metadata": {
  "kernelspec": {
   "display_name": "Python 3",
   "language": "python",
   "name": "python3"
  },
  "language_info": {
   "codemirror_mode": {
    "name": "ipython",
    "version": 3
   },
   "file_extension": ".py",
   "mimetype": "text/x-python",
   "name": "python",
   "nbconvert_exporter": "python",
   "pygments_lexer": "ipython3",
   "version": "3.9.6"
  }
 },
 "nbformat": 4,
 "nbformat_minor": 5
}

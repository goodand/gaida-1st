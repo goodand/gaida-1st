{
 "cells": [
  {
   "cell_type": "code",
   "execution_count": null,
   "id": "beb9a690",
   "metadata": {},
   "outputs": [],
   "source": [
    "# `01_numpy.ipynb`"
   ]
  },
  {
   "cell_type": "markdown",
   "id": "a3053ee8",
   "metadata": {},
   "source": [
    "# 이 부분은 MD 파일로 이동"
   ]
  },
  {
   "cell_type": "code",
   "execution_count": 3,
   "id": "9cb00f1a",
   "metadata": {},
   "outputs": [
    {
     "name": "stdout",
     "output_type": "stream",
     "text": [
      "Defaulting to user installation because normal site-packages is not writeable\n",
      "Requirement already satisfied: numpy in /Users/jaehyuntak/Library/Python/3.9/lib/python/site-packages (1.26.3)\n",
      "\u001b[33mWARNING: You are using pip version 21.2.4; however, version 25.1.1 is available.\n",
      "You should consider upgrading via the '/Applications/Xcode.app/Contents/Developer/usr/bin/python3 -m pip install --upgrade pip' command.\u001b[0m\n",
      "Note: you may need to restart the kernel to use updated packages.\n"
     ]
    }
   ],
   "source": [
    "%pip install numpy"
   ]
  },
  {
   "cell_type": "code",
   "execution_count": 2,
   "id": "c1554c7c",
   "metadata": {},
   "outputs": [
    {
     "name": "stdout",
     "output_type": "stream",
     "text": [
      "[2, 4, 6, 8, 10]\n"
     ]
    }
   ],
   "source": [
    "python_list = [1,2,3,4,5]\n",
    "# [2,4,6,8,10]\n",
    "\n",
    "result = [x*2 for x in python_list]\n",
    "print(result) "
   ]
  },
  {
   "cell_type": "code",
   "execution_count": 5,
   "id": "b4db66cc",
   "metadata": {},
   "outputs": [
    {
     "name": "stdout",
     "output_type": "stream",
     "text": [
      "[ 2  4  6  8 10]\n"
     ]
    }
   ],
   "source": [
    "import numpy as np\n",
    "\n",
    "array = np.array([1, 2, 3, 4, 5])\n",
    "result = array * 2\n",
    "print(result)"
   ]
  },
  {
   "cell_type": "code",
   "execution_count": 11,
   "id": "a5ada0a1",
   "metadata": {},
   "outputs": [
    {
     "name": "stdout",
     "output_type": "stream",
     "text": [
      "[1 2 3 4 5] <class 'numpy.ndarray'>\n",
      "차원 1\n",
      "형태 (5,)\n",
      "크기 5\n"
     ]
    }
   ],
   "source": [
    "arr = np.array([1,2,3,4,5])\n",
    "print(arr, type(arr))\n",
    "print('차원', arr.ndim)\n",
    "print('형태', arr.shape)\n",
    "print('크기',arr.size)"
   ]
  },
  {
   "cell_type": "code",
   "execution_count": 5,
   "id": "c7dc780c",
   "metadata": {},
   "outputs": [
    {
     "data": {
      "text/plain": [
       "array([1, 2, 3, 4, 5])"
      ]
     },
     "execution_count": 5,
     "metadata": {},
     "output_type": "execute_result"
    }
   ],
   "source": [
    "arr1d = np.array([1,2,3,4,5])\n",
    "arr1d"
   ]
  },
  {
   "cell_type": "code",
   "execution_count": null,
   "id": "eb52326c",
   "metadata": {},
   "outputs": [
    {
     "data": {
      "text/plain": [
       "array([[1, 2, 3],\n",
       "       [4, 5, 6]])"
      ]
     },
     "execution_count": 13,
     "metadata": {},
     "output_type": "execute_result"
    }
   ],
   "source": [
    "l2d = [\n",
    "    [1,2,3],\n",
    "    [4,5,6]\n",
    "]\n",
    "arr2d = np.array(l2d)\n",
    "\n",
    "arr2d.ndim, arr2d.shape, arr2d.size\n",
    "\n",
    "arr2d "
   ]
  },
  {
   "cell_type": "code",
   "execution_count": null,
   "id": "50cd2994",
   "metadata": {},
   "outputs": [
    {
     "data": {
      "text/plain": [
       "array([1., 2., 3.])"
      ]
     },
     "execution_count": 14,
     "metadata": {},
     "output_type": "execute_result"
    }
   ],
   "source": [
    "# 실수형 arr\n",
    "np.array([1,2,3], dtype=float)"
   ]
  },
  {
   "cell_type": "code",
   "execution_count": 18,
   "id": "4a4fa823",
   "metadata": {},
   "outputs": [
    {
     "name": "stdout",
     "output_type": "stream",
     "text": [
      "[0. 0. 0. 0. 0.] [[0. 0. 0.]\n",
      " [0. 0. 0.]]\n",
      "[1. 2. 3.]\n"
     ]
    }
   ],
   "source": [
    "# 0으로 채워짐\n",
    "\n",
    "z1d = np.zeros(5)\n",
    "z2d = np.zeros((2,3))\n",
    "print(z1d,z2d)\n",
    "\n",
    "# 1로 채워짐\n",
    "\n",
    "o1d = np.ones(5)\n",
    "o2d = np.ones((2,3))\n",
    "\n",
    "# n으로 채움-> 5칸, 7칸으로 체움\n",
    "n1d = np.full(5,7)\n",
    "n2d = np.full((2,3),7)\n",
    "\n",
    "# 빈칸이지만 먼저 만듦\n",
    "empty = np.empty(3)\n",
    "print(empty)\n",
    "\n"
   ]
  },
  {
   "cell_type": "code",
   "execution_count": null,
   "id": "eeded2bd",
   "metadata": {},
   "outputs": [
    {
     "name": "stdout",
     "output_type": "stream",
     "text": [
      "[0 2 4 6 8]\n"
     ]
    },
    {
     "data": {
      "text/plain": [
       "array([0, 2, 4, 6, 8])"
      ]
     },
     "execution_count": 21,
     "metadata": {},
     "output_type": "execute_result"
    }
   ],
   "source": [
    "# 시퀀스 데이터\n",
    "range_arr = np.arange(0,10,2)\n",
    "print(range_arr) # 파이썬은 대문자, 소문자 오타 주의\n",
    "\n",
    "\n",
    "np.array(range(0,10,2))\n",
    "\n",
    "# 등간격 실수 배열\n",
    "lin_space = np.linspace(0,1,5)\n",
    "print(lin_space)\n",
    "\n",
    "# 로그스케일\n",
    "log_space = np.logspace(0,2,5) # 10^0 - 10^2 중 5개 요소\n",
    "peint(log_space) "
   ]
  },
  {
   "cell_type": "code",
   "execution_count": null,
   "id": "fd6b7dac",
   "metadata": {},
   "outputs": [
    {
     "name": "stdout",
     "output_type": "stream",
     "text": [
      "[[0.36290162 0.07992852 0.10131357]\n",
      " [0.24665478 0.53445454 0.12055611]\n",
      " [0.73982797 0.99413274 0.33207503]]\n"
     ]
    }
   ],
   "source": [
    "# 난수 베열\n",
    "\n",
    "# 균등 분포 # 0~1 실수 균등확률 분포\n",
    "random = np.random.rand(3,3) # 0~1 실수\n",
    "print(random)\n",
    "\n",
    "# 정규 분포 난수\n",
    "normal = np.random.randn(3,3)\n",
    "print(normal)\n",
    "\n",
    "# 정수 난수 \n",
    "np.random.randint(0, 10, (3,3))\n",
    "print(int_random)\n",
    "\n",
    "# 시드 설정(랜덤 재현 가능) # 암호 관련 기술\n",
    "\n",
    "np.random.seed(42) # 랜덤상황 42 고정\n",
    "np.random.seed(3)"
   ]
  },
  {
   "cell_type": "code",
   "execution_count": 28,
   "id": "f5c9d247",
   "metadata": {},
   "outputs": [
    {
     "name": "stdout",
     "output_type": "stream",
     "text": [
      "float64\n",
      "['1.2' '2.3' '3.4'] [1.2 2.3 3.4]\n"
     ]
    }
   ],
   "source": [
    "# 배열의 데이터 타입\n",
    "# 데이터 타입 확인\n",
    "arr = np.array([1,2,3])\n",
    "\n",
    "# 데이터 타입 지정 생성\n",
    "f_arr = np.array([1,2,3], dtype = np.float64)\n",
    "\n",
    "# 데이터 타입 변경\n",
    "\n",
    "converted = arr.astype(np.float64)\n",
    "print(converted.dtype)\n",
    "\n",
    "# 문자열 -> 숫자\n",
    "str_arr = np.array(['1.2','2.3','3.4'])\n",
    "num_arr = str_arr.astype(float) # np.floatXX 라고 지정 안 하고 float 쓰면 -> float64\n",
    "print(str_arr, num_arr)\n"
   ]
  },
  {
   "cell_type": "code",
   "execution_count": null,
   "id": "14c911e3",
   "metadata": {},
   "outputs": [
    {
     "name": "stdout",
     "output_type": "stream",
     "text": [
      "8\n",
      "8\n",
      "24\n",
      "24\n"
     ]
    }
   ],
   "source": [
    "# memory 사용량\n",
    "print(arr.itemsize) # 8byte\n",
    "print(converted.itemsize) # 리ㅐㅁㅅ32 -> 4byte\n",
    "\n",
    "# 총 메모리 사용량\n",
    "\n",
    "print(arr.nbytes) # 8byte * 3칸 \n",
    "print(converted.nbytes)\n",
    "\n",
    "# 과학 기술 관련해서는 소수점도 중요하니깐 64byte, 하지만 Context에 따라서 "
   ]
  },
  {
   "cell_type": "code",
   "execution_count": null,
   "id": "4df38f37",
   "metadata": {},
   "outputs": [
    {
     "name": "stdout",
     "output_type": "stream",
     "text": [
      "[ 0  1  2  3  4  5  6  7  8  9 10 11]\n",
      "[[ 0  1  2  3]\n",
      " [ 4  5  6  7]\n",
      " [ 8  9 10 11]]\n",
      "[[ 0  1  2  3]\n",
      " [ 4  5  6  7]\n",
      " [ 8  9 10 11]]\n"
     ]
    }
   ],
   "source": [
    "# 배열 재구성\n",
    "arr = np.arange(12)\n",
    "print(arr) \n",
    "\n",
    "reshaped2d = arr.reshape(3,4)\n",
    "\n",
    "print(reshaped2d) # 3row * 4col\n",
    "\n",
    "reshaped3d = arr.reshape(2, 2, 3) # 2페이지, 2row * 3col\n",
    "print(reshaped)\n",
    "\n",
    "# 자동계산\n",
    "\n",
    "auto1 = arr.reshape(3,-1)\n",
    "auto2 = arr.reshape"
   ]
  },
  {
   "cell_type": "code",
   "execution_count": null,
   "id": "5497e5f0",
   "metadata": {},
   "outputs": [],
   "source": [
    "# 1차원 => N차원\n",
    "# reshape -> 원본 그대로, 새로운 배열 만드는\n",
    "# resize -> 원본을 바꿈\n",
    "\n",
    "arr = np.arrange(12)\n",
    "reshaped = arr.reshape(3,4) # 새로운 배열 리턴\n",
    "print(reshaped)\n",
    "print(arr)\n",
    "\n",
    "arr.resize(3,4) # arr이 바꿈\n"
   ]
  },
  {
   "cell_type": "code",
   "execution_count": null,
   "id": "4be97536",
   "metadata": {},
   "outputs": [
    {
     "name": "stdout",
     "output_type": "stream",
     "text": [
      "[[100   2   3]\n",
      " [  4   5   6]]\n",
      "[100   2   3   4   5   6] [-100    2    3    4    5    6]\n"
     ]
    }
   ],
   "source": [
    "# N차원 -> 1차원\n",
    "arr = np.array([[1, 2, 3],[4, 5, 6]])\n",
    "\n",
    "r = arr.ravel() # 뷰(원본 연결 및 참조) => 빨리 펼쳐서 보기\n",
    "f = arr.flatten() # 복사본 => 안전하게 세로 만들기\n",
    "\n",
    "\n",
    "r[0] = 100\n",
    "f[0] = -100\n",
    "\n",
    "print(arr)\n",
    "print(r,f)"
   ]
  },
  {
   "cell_type": "code",
   "execution_count": null,
   "id": "34e14131",
   "metadata": {},
   "outputs": [
    {
     "name": "stdout",
     "output_type": "stream",
     "text": [
      "[[1 2 3]\n",
      " [4 5 6]]\n"
     ]
    },
    {
     "data": {
      "text/plain": [
       "(array([[1, 4],\n",
       "        [2, 5],\n",
       "        [3, 6]]),\n",
       " array([[1, 4],\n",
       "        [2, 5],\n",
       "        [3, 6]]))"
      ]
     },
     "execution_count": 93,
     "metadata": {},
     "output_type": "execute_result"
    }
   ],
   "source": [
    "# 전치 -> 행과 열을 교환\n",
    "arr_2d = np.array([[1, 2, 3], [4, 5, 6]])\n",
    "print(arr_2d) # 배열 전치(Transpose): 행과 열을 뒤바꿔 2행 3열을 -> 3행 2열로 변경 (회전)\n",
    "\n",
    "arr_2d.transpose(), arr_2d.T"
   ]
  },
  {
   "cell_type": "code",
   "execution_count": 39,
   "id": "73d176c5",
   "metadata": {},
   "outputs": [
    {
     "name": "stdout",
     "output_type": "stream",
     "text": [
      "[ 1  2  3  4  5  6  7  8  9 10 11 12 13 14 15] [ 1  2  3  4  5  6  7  8  9 10 11 12 13 14 15]\n",
      "[1 3 5 7 9]\n",
      "[0.  0.6 1.2 1.8 2.4 3. ]\n",
      "[0.  0.6 1.2 1.8 2.4 3. ]\n"
     ]
    }
   ],
   "source": [
    "# 1~15 정수 베열\n",
    "\n",
    "print(np.arange(1,16),np.array(range(1,16)))\n",
    "\n",
    "# 0~9까지 홀수\n",
    "print(np.arange(1,10,2))\n",
    "\n",
    "# 0~1까지 균등하게 6등분 베열\n",
    "\n",
    "print(np.linspace(0,3,6))\n",
    "\n",
    "# 0~3까지 균등 6등분 (5구간) 배열\n",
    "print(np.linspace(0,3,6))"
   ]
  },
  {
   "cell_type": "code",
   "execution_count": null,
   "id": "6c429094",
   "metadata": {},
   "outputs": [
    {
     "name": "stdout",
     "output_type": "stream",
     "text": [
      "[[1. 0. 0. 0.]\n",
      " [0. 1. 0. 0.]\n",
      " [0. 0. 1. 0.]\n",
      " [0. 0. 0. 1.]]\n",
      "\n"
     ]
    }
   ],
   "source": [
    "# 4*4 단위 행렬(identity metrix) -> 대각선 1, 나머지 0\n",
    "\n",
    "print(np.eye(4))\n",
    "\n",
    "\n",
    "# 3,4 사이즈의 1로 가득찬 int 배열\n",
    "\n",
    "np.ones((3,4),dtype=int) \n",
    "\n",
    "# 2*3*4사이즈 0-1 난수 배열\n",
    "np.random.rand(2,3,4) # 인자로 차원 지정 -> 오래된 버전에서 주로 씀\n",
    "np.random.random((2,3,4)) # 튜플로 차원 지정 -> 최신 버전에서 주로 씀\n",
    "\n",
    "print()\n",
    "print()\n",
    "print()"
   ]
  },
  {
   "cell_type": "code",
   "execution_count": 49,
   "id": "b0a9e2f0",
   "metadata": {},
   "outputs": [],
   "source": [
    "## 배열의 인덱싱/슬라이싱 \n",
    "\n",
    "# \n",
    "# \n",
    "#  indexing 드디어 다른 세계의 인덱싱 가자!!"
   ]
  },
  {
   "cell_type": "code",
   "execution_count": null,
   "id": "47aa8945",
   "metadata": {},
   "outputs": [],
   "source": []
  },
  {
   "cell_type": "code",
   "execution_count": null,
   "id": "7ff83e93",
   "metadata": {},
   "outputs": [
    {
     "data": {
      "text/plain": [
       "5"
      ]
     },
     "execution_count": 51,
     "metadata": {},
     "output_type": "execute_result"
    }
   ],
   "source": [
    "# arr_2d = np.array(range(1,10)).reshape(3,3)\n",
    "\n",
    "arr_2d = np.array(\n",
    "    [\n",
    "        [1,2,3],\n",
    "        [4,5,6],\n",
    "        [7,8,9]\n",
    "    ]\n",
    ")\n",
    "\n",
    "# numpy에서만 지원\n",
    "arr_2d[0, 0]  # arr_2d[0][0] -> r 0, c 0\n",
    "arr_2d[1, 1]\n",
    "\n",
    "arr_2d[1] # 행 접근\n",
    "\n",
    "# 변경\n",
    "\n",
    " arr_2ㅇ[0,0] =100\n",
    " arr_2d\n",
    "\n",
    " "
   ]
  },
  {
   "cell_type": "code",
   "execution_count": null,
   "id": "f6e2f351",
   "metadata": {},
   "outputs": [
    {
     "name": "stdout",
     "output_type": "stream",
     "text": [
      "[2 3 4] [0 1 2 3 4] [5 6 7 8 9]\n",
      "[1 3 5 7] [0 2 4 6 8]\n",
      "[9 8 7 6 5 4 3 2 1 0] [7 6 5 4 3]\n"
     ]
    }
   ],
   "source": [
    "# 슬라이싱\n",
    "\n",
    "arr = np.arange(10)\n",
    "print(\n",
    "    arr[2:5],\n",
    "    arr[:5],\n",
    "    arr[5:]\n",
    ")\n",
    "\n",
    "print(\n",
    "    arr[1:8:2],\n",
    "    arr[::2]\n",
    ")\n",
    "\n",
    "print(\n",
    "    arr[::-1],\n",
    "    arr[7:2:-1]\n",
    ")\n",
    "\n",
    "# 슬라이싱으로 일괄 변경(파이썬 고유 기능 X)\n",
    "arr[3.6] = 100\n",
    "print(arr)\n"
   ]
  },
  {
   "cell_type": "code",
   "execution_count": null,
   "id": "0505d44d",
   "metadata": {},
   "outputs": [
    {
     "name": "stdout",
     "output_type": "stream",
     "text": [
      "[[ 1  2  3  4]\n",
      " [ 5  6  7  8]\n",
      " [ 9 10 11 12]]\n",
      "[[1 2 3 4]\n",
      " [5 6 7 8]]\n",
      "[[ 1  2]\n",
      " [ 5  6]\n",
      " [ 9 10]]\n",
      "[[ 5  6]\n",
      " [ 9 10]]\n",
      "[[ 1  3]\n",
      " [ 9 11]]\n"
     ]
    }
   ],
   "source": [
    "# 다차원 배열 슬라이싱\n",
    "arr_2d = np.arange(1,13).reshape(3,-1)\n",
    "\n",
    "print(arr_2d)\n",
    "\n",
    "# row(행) 슬라이싱 -> 0,1 idx행\n",
    "print(arr_2d[0:2])\n",
    "\n",
    "\n",
    "# col(열) 슬라이싱 -> 모든 행의 idx 1,2열\n",
    "print(arr_2d[:,0:2])\n",
    "\n",
    "# row/col 동시 슬라이싱 -> 1,2행 / 0,1duf\n",
    "print(arr_2d[1:3, 0:2])\n",
    "\n",
    "# 간격지정 -> 행/열 모두 2간격\n",
    "print(arr_2d[::2,::2 ]) "
   ]
  },
  {
   "cell_type": "code",
   "execution_count": null,
   "id": "d8d456c1",
   "metadata": {},
   "outputs": [],
   "source": [
    "# 다차원 배열 슬라이싱 변경\n",
    "print(arr_2d)\n",
    "\n",
    "## 부분 배녈 일괄 변경\n",
    "arr_2d[0:2,0:2]\n",
    "print(arr_2d)\n",
    "\n",
    "## 브로드캐스팅\n"
   ]
  },
  {
   "cell_type": "code",
   "execution_count": null,
   "id": "685f3c0b",
   "metadata": {},
   "outputs": [],
   "source": [
    "# 다중 조건\n",
    "print\n"
   ]
  },
  {
   "cell_type": "code",
   "execution_count": null,
   "id": "90732520",
   "metadata": {},
   "outputs": [
    {
     "name": "stdout",
     "output_type": "stream",
     "text": [
      "[6 7 8 9]\n",
      "[1 2 3 4 5]\n",
      "[[1 2 3]\n",
      " [4 5 6]\n",
      " [7 8 9]]\n",
      "[[1 2 3]\n",
      " [7 8 9]]\n"
     ]
    }
   ],
   "source": [
    "# 2차원 배열 불리언인덱싱\n",
    "\n",
    "arr_2d = np.arange(1,10).reshape(3,3)\n",
    "\n",
    "mask = arr_2d > 5 \n",
    "\n",
    "print(arr_2d[mask]) # 살아 있는 애들만 벡터로 # 원본 metrix형태 없음. True로 필터된 애들만 vector로 나옴\n",
    "print(arr_2d[arr_2d < 6])\n",
    "\n",
    "# 조건에 맞는 행만 선택\n",
    "row_mask = np.array([True, False, True ])\n",
    "print(arr_2d)\n",
    "print(arr_2d[row_mask]) # row T,F,T -> 0.2 row만 뽑음\n",
    "\n",
    "\n",
    "\n",
    "# 그게 왜 될꺼라고 생각하세요? ㅋㅋ \n",
    "\n",
    "\n",
    "\n",
    "\n"
   ]
  },
  {
   "cell_type": "code",
   "execution_count": null,
   "id": "6e3eb1ea",
   "metadata": {},
   "outputs": [
    {
     "name": "stdout",
     "output_type": "stream",
     "text": [
      "[10 20 30 40 50]\n",
      "[10 10 20 20 30]\n"
     ]
    }
   ],
   "source": [
    "# Fancy 인덱싱\n",
    "\n",
    "arr = np.arange(10, 60, 10)\n",
    "print(arr)\n",
    "\n",
    "# arr[1,2] -> arr[1],[2]\n",
    "\n",
    "arr[[1,2]] # -> arr[1], arr[2]를 뽑아라\n",
    "arr[[0,2,3]] # -> arr[0], arr[2], arr[3]만 가져와라\n",
    " \n",
    "print(arr[[0,0,1,1,2]]) # 대괄호 안에 \n",
    "print(arr[[4,2,3,1,0]]) # 대괄호 안에 또 대괄화가 나오면 그 때 Fancy 인덱싱입니다."
   ]
  },
  {
   "cell_type": "code",
   "execution_count": null,
   "id": "e5b23f98",
   "metadata": {},
   "outputs": [],
   "source": [
    "# 다차원 Fancy 인덱싱\n",
    "\n",
    "arr_2d = np.arange(1,10).reshape(3,3)\n",
    "print(arr_2d)\n",
    "\n",
    "print(arr_2d[0]) # row 0\n",
    "\n",
    "# 특정 행만 선택\n",
    "print(arr_2d[[0,2]]) # row0,2\n",
    "\n",
    "print()\n",
    "\n",
    "# 행과 열을 동시에 선택\n",
    "print(\n",
    "    arr_2d[ # (0,0),(1,2),(2,1) 순서로 벡터 만듦\n",
    "        [0,1,2],\n",
    "        [2,2,1]\n",
    "    ]\n",
    ")\n",
    "\n",
    "# 행렬의 특정 열을 순서 바꾸기\n",
    "print(\n",
    "    arr_2d[\n",
    "        :, # 모든 행\n",
    "        [2,0,1] # 열 idx릉 이렇게 바꿔라\n",
    "    ]\n",
    ")\n",
    "\n",
    "# 행렬의 특정 "
   ]
  },
  {
   "cell_type": "code",
   "execution_count": null,
   "id": "e127acc1",
   "metadata": {},
   "outputs": [],
   "source": [
    "# 실습 \n",
    "\n",
    " 10부터 20까지의 정수 배열 생성\n",
    "arr = np.arange(10, 21)\n",
    "print('원본', arr)\n",
    "\n",
    "# 문제1: 배열의 첫 번째, 세 번째, 마지막 요소 출력\n",
    "\n",
    "# 문제2: 인덱스 2부터 5까지 요소 출력\n",
    "\n",
    "# 문제3: 처음부터 5번째 요소까지 모든 짝수 인덱스 요소 출력\n",
    "\n",
    "# 문제4: 배열의 요소를 역순으로 출력"
   ]
  },
  {
   "cell_type": "code",
   "execution_count": null,
   "id": "df6cb88e",
   "metadata": {},
   "outputs": [
    {
     "name": "stdout",
     "output_type": "stream",
     "text": [
      "원본 [[ 0  1  2  3]\n",
      " [ 4  5  6  7]\n",
      " [ 8  9 10 11]]\n",
      "6\n"
     ]
    },
    {
     "data": {
      "text/plain": [
       "array([ 3,  7, 11])"
      ]
     },
     "execution_count": 75,
     "metadata": {},
     "output_type": "execute_result"
    }
   ],
   "source": [
    "# 3 * 4 matrix\n",
    "matrix = np.arange(12).reshape(3, 4)\n",
    "print('원본', matrix)\n",
    "\n",
    "# 문제1: (1,2) 위치의 요소 출력\n",
    "\n",
    "print(matrix[1,2])\n",
    "\n",
    "# 문제2: 두 번째 행 전체 출력\n",
    "matrix[1]\n",
    "\n",
    "# 문제3: 마지막 열 전체 출력\n",
    "matrix[:,-1]\n",
    "\n",
    "# 문제4: 첫 번째와 세 번째 행의 두 번째와 네 번째 열 요소만 추출\n",
    "\n",
    "matrix[[0.2]]"
   ]
  },
  {
   "cell_type": "code",
   "execution_count": 79,
   "id": "c0a68ae9",
   "metadata": {},
   "outputs": [
    {
     "name": "stdout",
     "output_type": "stream",
     "text": [
      "원본 [ 1  2  3  4  5  6  7  8  9 10 11 12 13 14 15 16 17 18 19 20]\n"
     ]
    },
    {
     "ename": "TypeError",
     "evalue": "'numpy.ndarray' object is not callable",
     "output_type": "error",
     "traceback": [
      "\u001b[0;31m---------------------------------------------------------------------------\u001b[0m",
      "\u001b[0;31mTypeError\u001b[0m                                 Traceback (most recent call last)",
      "Cell \u001b[0;32mIn[79], line 6\u001b[0m\n\u001b[1;32m      2\u001b[0m \u001b[38;5;28mprint\u001b[39m(\u001b[38;5;124m'\u001b[39m\u001b[38;5;124m원본\u001b[39m\u001b[38;5;124m'\u001b[39m, arr)\n\u001b[1;32m      4\u001b[0m \u001b[38;5;66;03m# 문제1: 5의 배수만 선택하여 출력\u001b[39;00m\n\u001b[0;32m----> 6\u001b[0m \u001b[43marr\u001b[49m\u001b[43m(\u001b[49m\u001b[43marr\u001b[49m\u001b[43m[\u001b[49m\u001b[43marr\u001b[49m\u001b[43m \u001b[49m\u001b[38;5;241;43m%\u001b[39;49m\u001b[43m \u001b[49m\u001b[38;5;241;43m5\u001b[39;49m\u001b[43m \u001b[49m\u001b[38;5;241;43m==\u001b[39;49m\u001b[38;5;241;43m0\u001b[39;49m\u001b[43m]\u001b[49m\u001b[43m)\u001b[49m\n\u001b[1;32m      8\u001b[0m \u001b[38;5;66;03m# 문제2: 3보다 크고 15보다 작은 요소 선택\u001b[39;00m\n\u001b[1;32m      9\u001b[0m \n\u001b[1;32m     10\u001b[0m \u001b[38;5;66;03m# 문제3: 7의 배수이거나 홀수인 요소 선택\u001b[39;00m\n",
      "\u001b[0;31mTypeError\u001b[0m: 'numpy.ndarray' object is not callable"
     ]
    }
   ],
   "source": [
    "arr = np.arange(1, 21)\n",
    "print('원본', arr)\n",
    "\n",
    "# 문제1: 5의 배수만 선택하여 출력\n",
    "\n",
    "arr(arr[arr % 5 ==0])\n",
    "\n",
    "# 문제2: 3보다 크고 15보다 작은 요소 선택\n",
    "\n",
    "# 문제3: 7의 배수이거나 홀수인 요소 선택"
   ]
  },
  {
   "cell_type": "code",
   "execution_count": null,
   "id": "2a8c57fd",
   "metadata": {},
   "outputs": [
    {
     "name": "stdout",
     "output_type": "stream",
     "text": [
      "원본 [[ 1  2  3  4]\n",
      " [ 5  6  7  8]\n",
      " [ 9 10 11 12]\n",
      " [13 14 15 16]\n",
      " [17 18 19 20]]\n",
      "[11 12 13 14 15 16 17 18 19 20]\n"
     ]
    }
   ],
   "source": [
    "matrix = np.arange(1, 21).reshape(5, 4)\n",
    "print('원본', matrix)\n",
    "\n",
    "# 문제4: 10보다 큰 요소만 100으로 변경 (슬라이싱/불리언인덱싱 -> 뷰 생성(원본 데이터 연결))\n",
    "\n",
    "print(matrix[matrix>10])\n",
    "\n",
    "matrix[matrix>10] = 100\n",
    "\n",
    "print(matrix)\n",
    "\n"
   ]
  },
  {
   "cell_type": "code",
   "execution_count": 84,
   "id": "0b229f40",
   "metadata": {},
   "outputs": [
    {
     "ename": "SyntaxError",
     "evalue": "invalid syntax (1149509561.py, line 1)",
     "output_type": "error",
     "traceback": [
      "\u001b[0;36m  Cell \u001b[0;32mIn[84], line 1\u001b[0;36m\u001b[0m\n\u001b[0;31m    선형대수 연산\u001b[0m\n\u001b[0m         ^\u001b[0m\n\u001b[0;31mSyntaxError\u001b[0m\u001b[0;31m:\u001b[0m invalid syntax\n"
     ]
    }
   ],
   "source": [
    "선형대수 연산"
   ]
  },
  {
   "cell_type": "markdown",
   "id": "e6d73d69",
   "metadata": {},
   "source": [
    "## 선형대수 연산\n",
    "\n",
    "### \n"
   ]
  },
  {
   "cell_type": "code",
   "execution_count": 85,
   "id": "c6153fdf",
   "metadata": {},
   "outputs": [
    {
     "name": "stdout",
     "output_type": "stream",
     "text": [
      "[ 6  8 10 12]\n",
      "[-4 -4 -4 -4]\n",
      "[ 5 12 21 32]\n",
      "[0.2        0.33333333 0.42857143 0.5       ]\n",
      "[ 1  4  9 16]\n",
      "[    1    64  2187 65536]\n"
     ]
    }
   ],
   "source": [
    "a = np.array([1, 2, 3, 4])\n",
    "b = np.array([5, 6, 7, 8])\n",
    "\n",
    "print(a + b)\n",
    "print(a - b)\n",
    "print(a * b)\n",
    "print(a / b)\n",
    "\n",
    "print(a ** 2)\n",
    "print(a ** b)"
   ]
  },
  {
   "cell_type": "code",
   "execution_count": 86,
   "id": "1192b6f0",
   "metadata": {},
   "outputs": [
    {
     "name": "stdout",
     "output_type": "stream",
     "text": [
      "[False False  True False]\n",
      "[ True  True  True False]\n",
      "[False  True False  True]\n"
     ]
    }
   ],
   "source": [
    "a = np.array([True, False, True, False])\n",
    "b = np.array([False, True, True, False])\n",
    "\n",
    "# 논리연산\n",
    "# AND\n",
    "print(a & b)\n",
    "# OR\n",
    "print(a | b)\n",
    "# NOT\n",
    "print(~a)"
   ]
  },
  {
   "cell_type": "code",
   "execution_count": null,
   "id": "58375a11",
   "metadata": {},
   "outputs": [],
   "source": []
  },
  {
   "cell_type": "markdown",
   "id": "1cee2421",
   "metadata": {},
   "source": [
    "### 벡터(1줄) <-> 스칼라(단일값) 연산\n",
    "> Broadcasting (스칼라가 배열 크기에 맞게 확장)\n",
    "\n"
   ]
  },
  {
   "cell_type": "code",
   "execution_count": null,
   "id": "dd7b07de",
   "metadata": {},
   "outputs": [
    {
     "name": "stdout",
     "output_type": "stream",
     "text": [
      "[11 12 13 14 15]\n",
      "[0 1 2 3 4]\n",
      "[ 2  4  6  8 10]\n",
      "[0.5 1.  1.5 2.  2.5]\n",
      "[ 1  4  9 16 25]\n",
      "[False False False  True  True]\n",
      "[False  True False False False]\n"
     ]
    }
   ],
   "source": [
    "# 배열 생성\n",
    "arr = np.array([1, 2, 3, 4, 5])\n",
    "\n",
    "# 스칼라 덧셈\n",
    "print(arr + 10)     # [11 12 13 14 15]\n",
    "\n",
    "# 스칼라 뺄셈\n",
    "print(arr - 1)      # [0 1 2 3 4]\n",
    "\n",
    "# 스칼라 곱셈\n",
    "print(arr * 2)      # [2 4 6 8 10]\n",
    "\n",
    "# 스칼라 나눗셈\n",
    "print(arr / 2)      # [0.5 1.  1.5 2.  2.5]\n",
    "\n",
    "# 스칼라 거듭제곱\n",
    "print(arr ** 2)     # [ 1  4  9 16 25]\n",
    "\n",
    "# 스칼라 비교 (불리언 배열)\n",
    "print(arr > 3)      # [False False False  True  True]\n",
    "print(arr == 2)     # [False  True False False False]\n",
    "\n"
   ]
  },
  {
   "cell_type": "markdown",
   "id": "88d2cee8",
   "metadata": {},
   "source": [
    "### 매트릭스(2D) <-> 스칼라(단일값) 연산"
   ]
  },
  {
   "cell_type": "markdown",
   "id": "84b28241",
   "metadata": {},
   "source": []
  },
  {
   "cell_type": "code",
   "execution_count": null,
   "id": "fb15533e",
   "metadata": {},
   "outputs": [
    {
     "name": "stdout",
     "output_type": "stream",
     "text": [
      "[[11 12 13]\n",
      " [14 15 16]]\n",
      "[[ 3  6  9]\n",
      " [12 15 18]]\n"
     ]
    }
   ],
   "source": [
    "# 2차원 배열\n",
    "arr_2d = np.array([[1, 2, 3], [4, 5, 6]])\n",
    "\n",
    "# 스칼라 연산 \n",
    "print(arr_2d + 10)\n",
    "# [[11 12 13]\n",
    "#  [14 15 16]]\n",
    "\n",
    "print(arr_2d * 3)\n",
    "# [[ 3  6  9]\n",
    "#  [12 15 18]]\n",
    "\n",
    "\n",
    "# 얘도 브로드 캐스트다"
   ]
  },
  {
   "cell_type": "markdown",
   "id": "a3e61aaf",
   "metadata": {},
   "source": [
    "### 매트릭스(행렬) <-> 벡터(1줄) 연산"
   ]
  },
  {
   "cell_type": "markdown",
   "id": "74be950c",
   "metadata": {},
   "source": []
  },
  {
   "cell_type": "markdown",
   "id": "a2d42e15",
   "metadata": {},
   "source": []
  },
  {
   "cell_type": "code",
   "execution_count": 89,
   "id": "2093a00b",
   "metadata": {},
   "outputs": [
    {
     "name": "stdout",
     "output_type": "stream",
     "text": [
      "[[11 22 33]\n",
      " [14 25 36]]\n",
      "[[101 102 103]\n",
      " [204 205 206]]\n"
     ]
    }
   ],
   "source": [
    "matrix = np.array([[1, 2, 3], [4, 5, 6]])\n",
    "vector = np.array([10, 20, 30])\n",
    "\n",
    "# 행렬 + 행 벡터\n",
    "print(matrix + vector)\n",
    "\n",
    "# 열 벡터 브로드캐스팅\n",
    "col_vec = np.array(\n",
    "    [\n",
    "        [100],\n",
    "        [200]\n",
    "    ]\n",
    ")\n",
    "print(matrix + col_vec)"
   ]
  },
  {
   "cell_type": "code",
   "execution_count": 91,
   "id": "6f08f9b3",
   "metadata": {},
   "outputs": [
    {
     "name": "stdout",
     "output_type": "stream",
     "text": [
      "A + B 형태: (3, 2)\n",
      "[[2. 2.]\n",
      " [2. 2.]\n",
      " [2. 2.]]\n",
      "A + C 형태: (3, 2)\n",
      "[[2. 2.]\n",
      " [2. 2.]\n",
      " [2. 2.]]\n"
     ]
    }
   ],
   "source": [
    "\n",
    "# 브로드 캐스팅 가능한 경우\n",
    "\n",
    "A = np.ones((3, 2))       # 3x2 배열\n",
    "B = np.ones((2,))         # 길이 2인 1차원 배열 (1x2로 해석) (행벡터)\n",
    "C = np.ones((3, 1))       # 3x1 배열 (사실상 열벡터)\n",
    "\n",
    "print(\"A + B 형태:\", (A + B).shape)  # (3, 2) - B는 각 행에 브로드캐스팅\n",
    "print(A + B)\n",
    "\n",
    "\n",
    "print(\"A + C 형태:\", (A + C).shape)  # (3, 2) - C는 각 열에 브로드캐스팅\n",
    "print(A + C)"
   ]
  },
  {
   "cell_type": "code",
   "execution_count": 94,
   "id": "550baedb",
   "metadata": {},
   "outputs": [
    {
     "name": "stdout",
     "output_type": "stream",
     "text": [
      "[1 2 3 4 5]\n",
      "[2 3 4]\n",
      "[ 1 20  3  4  5]\n",
      "[ 1 20  3  4  5] [100  20   3   4   5]\n"
     ]
    }
   ],
   "source": [
    "# 뷰(원본 데이터와 링크) 와 복사본(완전 별도) 차이, 파이썬은 슬라이싱에서 뷰가 없이 복사본만 \n",
    "\n",
    "arr = np.arange(1,6)\n",
    "print(arr)\n",
    "\n",
    "# 슬라이싱 -> 뷰 생성\n",
    "view = arr[1:4]\n",
    "print(view)\n",
    "\n",
    "view[0] = 20\n",
    "print(arr)\n",
    "\n",
    "# 복사본..?\n",
    "copy = arr.copy()\n",
    "copy[0] = 100\n",
    "print(arr,copy)  "
   ]
  },
  {
   "cell_type": "code",
   "execution_count": 95,
   "id": "3435b5a2",
   "metadata": {},
   "outputs": [],
   "source": [
    "# 연산 중"
   ]
  },
  {
   "cell_type": "code",
   "execution_count": 99,
   "id": "a949ab35",
   "metadata": {},
   "outputs": [
    {
     "name": "stdout",
     "output_type": "stream",
     "text": [
      "[ 64 144  36 100]\n",
      "[2.82842712 3.46410162 2.44948974 3.16227766] [2.82842712 3.46410162 2.44948974 3.16227766]\n",
      "[ 8 12  6 20]\n",
      "64\n"
     ]
    }
   ],
   "source": [
    "arr1 = np.array([8,12,6,10])\n",
    "arr2 = np.array([3,4,1,20])\n",
    "\n",
    "print(arr1**2)\n",
    "print(arr1**0.5, np.sqrt(arr1)) #루트와 같은 결과\n",
    "# 각 자리 마다 최대닶만 모음\n",
    "print(np.maximum(arr1, arr2))\n",
    "# arr1 과 arr2의 모든 자리수를 더한 총합\n",
    "print(np.sum(arr1+arr2))"
   ]
  },
  {
   "cell_type": "code",
   "execution_count": 100,
   "id": "6f567a7c",
   "metadata": {},
   "outputs": [
    {
     "name": "stdout",
     "output_type": "stream",
     "text": [
      "sin(x) = [0.00000000e+00 7.07106781e-01 1.00000000e+00 1.22464680e-16]\n",
      "cos(x) = [ 1.00000000e+00  7.07106781e-01  6.12323400e-17 -1.00000000e+00]\n",
      "tan(x) = [ 0.00000000e+00  1.00000000e+00  1.63312394e+16 -1.22464680e-16]\n",
      "arcsin(sin(x)) = [0.00000000e+00 7.85398163e-01 1.57079633e+00 1.22464680e-16]\n",
      "exp(y) = [ 2.71828183  7.3890561  20.08553692 54.59815003]\n",
      "log(y) = [0.         0.69314718 1.09861229 1.38629436]\n",
      "log10(y) = [0.         0.30103    0.47712125 0.60205999]\n",
      "log2(y) = [0.        1.        1.5849625 2.       ]\n",
      "sqrt(y) = [1.         1.41421356 1.73205081 2.        ]\n",
      "power(y, 2) = [ 1  4  9 16]\n",
      "abs(z) = [2 1 0 1 2]\n",
      "sign(z) = [-1 -1  0  1  1]\n",
      "floor(w) = [1. 2. 3. 4.]\n",
      "ceil(w) = [2. 3. 4. 5.]\n",
      "round(w) = [1. 3. 4. 5.]\n",
      "trunc(w) = [1. 2. 3. 4.]\n"
     ]
    }
   ],
   "source": [
    "# 테스트 배열\n",
    "x = np.array([0, np.pi/4, np.pi/2, np.pi])\n",
    "y = np.array([1, 2, 3, 4])\n",
    "\n",
    "# 삼각함수\n",
    "print(\"sin(x) =\", np.sin(x))  # [0., 0.70710678, 1., 0.]\n",
    "print(\"cos(x) =\", np.cos(x))  # [1., 0.70710678, 0., -1.]\n",
    "print(\"tan(x) =\", np.tan(x))  # [0., 1., 16331239353195370., 0.]\n",
    "\n",
    "# 역삼각함수\n",
    "print(\"arcsin(sin(x)) =\", np.arcsin(np.sin(x)))\n",
    "\n",
    "# 지수와 로그\n",
    "print(\"exp(y) =\", np.exp(y))  # [2.71828183, 7.3890561, 20.08553692, 54.59815003]\n",
    "print(\"log(y) =\", np.log(y))  # [0., 0.69314718, 1.09861229, 1.38629436]\n",
    "print(\"log10(y) =\", np.log10(y))  # [0., 0.30103, 0.47712125, 0.60205999]\n",
    "print(\"log2(y) =\", np.log2(y))  # [0., 1., 1.58496250, 2.]\n",
    "\n",
    "# 제곱근과 거듭제곱\n",
    "print(\"sqrt(y) =\", np.sqrt(y))  # [1., 1.41421356, 1.73205081, 2.]\n",
    "print(\"power(y, 2) =\", np.power(y, 2))  # [1, 4, 9, 16]\n",
    "\n",
    "# 절대값과 부호\n",
    "z = np.array([-2, -1, 0, 1, 2])\n",
    "print(\"abs(z) =\", np.abs(z))  # [2 1 0 1 2]\n",
    "print(\"sign(z) =\", np.sign(z))  # [-1 -1  0  1  1]\n",
    "\n",
    "# 소수점 처리\n",
    "w = np.array([1.2, 2.7, 3.5, 4.9])\n",
    "print(\"floor(w) =\", np.floor(w))  # [1. 2. 3. 4.] (내림)\n",
    "print(\"ceil(w) =\", np.ceil(w))   # [2. 3. 4. 5.] (올림)\n",
    "print(\"round(w) =\", np.round(w))  # [1. 3. 4. 5.] (반올림)\n",
    "print(\"trunc(w) =\", np.trunc(w))  # [1. 2. 3. 4.] (소수점 버림)"
   ]
  },
  {
   "cell_type": "code",
   "execution_count": 102,
   "id": "ee53aa76",
   "metadata": {},
   "outputs": [
    {
     "name": "stdout",
     "output_type": "stream",
     "text": [
      "합계: 45\n",
      "평균: 5.0\n",
      "최소값: 1\n",
      "최대값: 9\n",
      "표준편차: 2.581988897471611\n",
      "분산: 6.666666666666667\n"
     ]
    }
   ],
   "source": [
    "arr = np.array([[1, 2, 3], [4, 5, 6], [7, 8, 9]])\n",
    "\n",
    "# 기본 집계\n",
    "print(\"합계:\", np.sum(arr))          # 45\n",
    "print(\"평균:\", np.mean(arr))         # 5.0\n",
    "print(\"최소값:\", np.min(arr))        # 1\n",
    "print(\"최대값:\", np.max(arr))        # 9\n",
    "print(\"표준편차:\", np.std(arr))      # 2.581988897471611\n",
    "print(\"분산:\", np.var(arr))          # 6.666666666666667"
   ]
  },
  {
   "cell_type": "code",
   "execution_count": 103,
   "id": "49b3050e",
   "metadata": {},
   "outputs": [
    {
     "name": "stdout",
     "output_type": "stream",
     "text": [
      "행별 합계: [ 6 15 24]\n",
      "열별 합계: [12 15 18]\n",
      "행별 평균: [2. 5. 8.]\n",
      "열별 평균: [4. 5. 6.]\n",
      "행별 최소값: [1 4 7]\n",
      "열별 최소값: [1 2 3]\n"
     ]
    }
   ],
   "source": [
    "# 축을 따라 집계\n",
    "print(\"행별 합계:\", np.sum(arr, axis=1))  # [ 6 15 24]\n",
    "print(\"열별 합계:\", np.sum(arr, axis=0))  # [12 15 18]\n",
    "print(\"행별 평균:\", np.mean(arr, axis=1))  # [2. 5. 8.]\n",
    "print(\"열별 평균:\", np.mean(arr, axis=0))  # [4. 5. 6.]\n",
    "print(\"행별 최소값:\", np.min(arr, axis=1))  # [1 4 7]\n",
    "print(\"열별 최소값:\", np.min(arr, axis=0))  # [1 2 3]"
   ]
  },
  {
   "cell_type": "code",
   "execution_count": 106,
   "id": "b318b41e",
   "metadata": {},
   "outputs": [
    {
     "name": "stdout",
     "output_type": "stream",
     "text": [
      "[[1 2 3]\n",
      " [4 5 6]\n",
      " [7 8 9]]\n",
      "누적 합계: [ 1  3  6 10 15 21 28 36 45]\n",
      "행별 누적 합계:\n",
      "[[ 1  3  6]\n",
      " [ 4  9 15]\n",
      " [ 7 15 24]]\n",
      "누적 곱: [     1      2      6     24    120    720   5040  40320 362880]\n",
      "중앙값: 5.0\n",
      "행별 중앙값: [2. 5. 8.]\n",
      "열별 중앙값: [4. 5. 6.]\n",
      "25% 백분위수: 3.0\n",
      "50% 백분위수: 5.0\n",
      "75% 백분위수: 7.0\n",
      "가중 평균: 6.5\n"
     ]
    }
   ],
   "source": [
    "# 누적 합계 (cumulative sum)\n",
    "print(arr)\n",
    "print(\"누적 합계:\", np.cumsum(arr))  # [ 1  3  6 10 15 21 28 36 45]\n",
    "print(\"행별 누적 합계:\")\n",
    "print(np.cumsum(arr, axis=1))\n",
    "# [[ 1  3  6]\n",
    "#  [ 4  9 15]\n",
    "#  [ 7 15 24]]\n",
    "\n",
    "# 누적 곱 (cumulative product)\n",
    "print(\"누적 곱:\", np.cumprod(arr))  # [1 2 6 24 120 720 5040 40320 362880]\n",
    "\n",
    "# 중앙값 (median)\n",
    "print(\"중앙값:\", np.median(arr))        # 5.0\n",
    "print(\"행별 중앙값:\", np.median(arr, axis=1))  # [2. 5. 8.]\n",
    "print(\"열별 중앙값:\", np.median(arr, axis=0))  # [4. 5. 6.]\n",
    "\n",
    "# 백분위수 (percentile)\n",
    "print(\"25% 백분위수:\", np.percentile(arr, 25))  # 3.0\n",
    "print(\"50% 백분위수:\", np.percentile(arr, 50))  # 5.0 (중앙값과 동일)\n",
    "print(\"75% 백분위수:\", np.percentile(arr, 75))  # 7.0\n",
    "\n",
    "# 가중 평균 (weighted average)\n",
    "weights = np.array([0.1, 0.3, 0.6])  # 가중치\n",
    "data = np.array([2, 5, 8])\n",
    "print(\"가중 평균:\", np.average(data, weights=weights))  # 6.1"
   ]
  },
  {
   "cell_type": "code",
   "execution_count": 107,
   "id": "96b9b1ea",
   "metadata": {},
   "outputs": [
    {
     "name": "stdout",
     "output_type": "stream",
     "text": [
      "3개로 균등 분할:\n",
      "[array([0, 1, 2, 3]), array([4, 5, 6, 7]), array([ 8,  9, 10, 11])]\n",
      "위치 지정 분할 (인덱스 3, 8 기준):\n",
      "[array([0, 1, 2]), array([3, 4, 5, 6, 7]), array([ 8,  9, 10, 11])]\n",
      "2차원 배열:\n",
      "[[ 0  1  2  3]\n",
      " [ 4  5  6  7]\n",
      " [ 8  9 10 11]\n",
      " [12 13 14 15]]\n",
      "행 방향 분할:\n",
      "[array([[0, 1, 2, 3],\n",
      "       [4, 5, 6, 7]]), array([[ 8,  9, 10, 11],\n",
      "       [12, 13, 14, 15]])]\n",
      "[array([[0, 1, 2, 3],\n",
      "       [4, 5, 6, 7]]), array([[ 8,  9, 10, 11],\n",
      "       [12, 13, 14, 15]])]\n",
      "열 방향 분할:\n",
      "[array([[ 0,  1],\n",
      "       [ 4,  5],\n",
      "       [ 8,  9],\n",
      "       [12, 13]]), array([[ 2,  3],\n",
      "       [ 6,  7],\n",
      "       [10, 11],\n",
      "       [14, 15]])]\n",
      "[array([[ 0,  1],\n",
      "       [ 4,  5],\n",
      "       [ 8,  9],\n",
      "       [12, 13]]), array([[ 2,  3],\n",
      "       [ 6,  7],\n",
      "       [10, 11],\n",
      "       [14, 15]])]\n"
     ]
    }
   ],
   "source": [
    "# 샘플 배열\n",
    "arr = np.arange(12)  # [ 0  1  2  3  4  5  6  7  8  9 10 11]\n",
    "\n",
    "# 균등 분할\n",
    "print(\"3개로 균등 분할:\")\n",
    "print(np.split(arr, 3))  # [array([0, 1, 2, 3]), array([4, 5, 6, 7]), array([ 8,  9, 10, 11])]\n",
    "\n",
    "# 위치 지정 분할\n",
    "print(\"위치 지정 분할 (인덱스 3, 8 기준):\")\n",
    "print(np.split(arr, [3, 8]))  # [array([0, 1, 2]), array([3, 4, 5, 6, 7]), array([ 8,  9, 10, 11])]\n",
    "\n",
    "# 2차원 배열 분할\n",
    "arr_2d = np.arange(16).reshape(4, 4)\n",
    "print(\"2차원 배열:\")\n",
    "print(arr_2d)\n",
    "\n",
    "# 행 방향 분할\n",
    "print(\"행 방향 분할:\")\n",
    "print(np.split(arr_2d, 2, axis=0))  # 2개 배열로 (각 2x4)\n",
    "print(np.vsplit(arr_2d, 2))  # 동일한 결과\n",
    "\n",
    "# 열 방향 분할\n",
    "print(\"열 방향 분할:\")\n",
    "print(np.split(arr_2d, 2, axis=1))  # 2개 배열로 (각 4x2)\n",
    "print(np.hsplit(arr_2d, 2))  # 동일한 결과"
   ]
  },
  {
   "cell_type": "code",
   "execution_count": 1,
   "id": "05deedf0",
   "metadata": {},
   "outputs": [
    {
     "ename": "NameError",
     "evalue": "name 'np' is not defined",
     "output_type": "error",
     "traceback": [
      "\u001b[0;31m---------------------------------------------------------------------------\u001b[0m",
      "\u001b[0;31mNameError\u001b[0m                                 Traceback (most recent call last)",
      "Cell \u001b[0;32mIn[1], line 2\u001b[0m\n\u001b[1;32m      1\u001b[0m \u001b[38;5;66;03m# 학급별 시험 점수 (5개 학급, 각 10명의 학생)\u001b[39;00m\n\u001b[0;32m----> 2\u001b[0m scores \u001b[38;5;241m=\u001b[39m \u001b[43mnp\u001b[49m\u001b[38;5;241m.\u001b[39mrandom\u001b[38;5;241m.\u001b[39mrandint(\u001b[38;5;241m50\u001b[39m, \u001b[38;5;241m101\u001b[39m, size\u001b[38;5;241m=\u001b[39m(\u001b[38;5;241m5\u001b[39m, \u001b[38;5;241m10\u001b[39m))  \u001b[38;5;66;03m# 50~100 사이 점수\u001b[39;00m\n\u001b[1;32m      3\u001b[0m \u001b[38;5;28mprint\u001b[39m(\u001b[38;5;124m\"\u001b[39m\u001b[38;5;124m학급별 점수:\u001b[39m\u001b[38;5;124m\"\u001b[39m)\n\u001b[1;32m      4\u001b[0m \u001b[38;5;28mprint\u001b[39m(scores)\n",
      "\u001b[0;31mNameError\u001b[0m: name 'np' is not defined"
     ]
    }
   ],
   "source": [
    "# 학급별 시험 점수 (5개 학급, 각 10명의 학생)\n",
    "scores = np.random.randint(50, 101, size=(5, 10))  # 50~100 사이 점수\n",
    "print(\"학급별 점수:\")\n",
    "print(scores)\n",
    "\n",
    "# 문제1: 전체 평균과 표준편차\n",
    "\n",
    "# 문제2: 학급별 최고점과 최저점\n",
    "\n",
    "# 문제3: 전체 학생 중 상위 25%와 하위 25% 컷오프 점수\n",
    "\n",
    "# 문제4: 학급별 평균이 가장 높은/낮은 학급 찾기"
   ]
  },
  {
   "cell_type": "code",
   "execution_count": null,
   "id": "5994659c",
   "metadata": {},
   "outputs": [
    {
     "name": "stdout",
     "output_type": "stream",
     "text": [
      "Defaulting to user installation because normal site-packages is not writeable\n",
      "Requirement already satisfied: tensorflow in /Users/jaehyuntak/Library/Python/3.9/lib/python/site-packages (2.19.0)\n",
      "Requirement already satisfied: termcolor>=1.1.0 in /Users/jaehyuntak/Library/Python/3.9/lib/python/site-packages (from tensorflow) (3.1.0)\n",
      "Requirement already satisfied: packaging in /Users/jaehyuntak/Library/Python/3.9/lib/python/site-packages (from tensorflow) (23.2)\n",
      "Requirement already satisfied: protobuf!=4.21.0,!=4.21.1,!=4.21.2,!=4.21.3,!=4.21.4,!=4.21.5,<6.0.0dev,>=3.20.3 in /Users/jaehyuntak/Library/Python/3.9/lib/python/site-packages (from tensorflow) (5.29.5)\n",
      "Requirement already satisfied: libclang>=13.0.0 in /Users/jaehyuntak/Library/Python/3.9/lib/python/site-packages (from tensorflow) (18.1.1)\n",
      "Requirement already satisfied: absl-py>=1.0.0 in /Users/jaehyuntak/Library/Python/3.9/lib/python/site-packages (from tensorflow) (2.3.1)\n",
      "Requirement already satisfied: requests<3,>=2.21.0 in /Users/jaehyuntak/Library/Python/3.9/lib/python/site-packages (from tensorflow) (2.31.0)\n",
      "Requirement already satisfied: setuptools in /Users/jaehyuntak/Library/Python/3.9/lib/python/site-packages (from tensorflow) (69.0.3)\n",
      "Requirement already satisfied: tensorboard~=2.19.0 in /Users/jaehyuntak/Library/Python/3.9/lib/python/site-packages (from tensorflow) (2.19.0)\n",
      "Requirement already satisfied: typing-extensions>=3.6.6 in /Users/jaehyuntak/Library/Python/3.9/lib/python/site-packages (from tensorflow) (4.9.0)\n",
      "Requirement already satisfied: h5py>=3.11.0 in /Users/jaehyuntak/Library/Python/3.9/lib/python/site-packages (from tensorflow) (3.14.0)\n",
      "Requirement already satisfied: google-pasta>=0.1.1 in /Users/jaehyuntak/Library/Python/3.9/lib/python/site-packages (from tensorflow) (0.2.0)\n",
      "Requirement already satisfied: tensorflow-io-gcs-filesystem>=0.23.1 in /Users/jaehyuntak/Library/Python/3.9/lib/python/site-packages (from tensorflow) (0.37.1)\n",
      "Requirement already satisfied: flatbuffers>=24.3.25 in /Users/jaehyuntak/Library/Python/3.9/lib/python/site-packages (from tensorflow) (25.2.10)\n",
      "Requirement already satisfied: keras>=3.5.0 in /Users/jaehyuntak/Library/Python/3.9/lib/python/site-packages (from tensorflow) (3.10.0)\n",
      "Requirement already satisfied: ml-dtypes<1.0.0,>=0.5.1 in /Users/jaehyuntak/Library/Python/3.9/lib/python/site-packages (from tensorflow) (0.5.3)\n",
      "Requirement already satisfied: astunparse>=1.6.0 in /Users/jaehyuntak/Library/Python/3.9/lib/python/site-packages (from tensorflow) (1.6.3)\n",
      "Requirement already satisfied: opt-einsum>=2.3.2 in /Users/jaehyuntak/Library/Python/3.9/lib/python/site-packages (from tensorflow) (3.4.0)\n",
      "Requirement already satisfied: numpy<2.2.0,>=1.26.0 in /Users/jaehyuntak/Library/Python/3.9/lib/python/site-packages (from tensorflow) (1.26.3)\n",
      "Requirement already satisfied: grpcio<2.0,>=1.24.3 in /Users/jaehyuntak/Library/Python/3.9/lib/python/site-packages (from tensorflow) (1.74.0)\n",
      "Requirement already satisfied: six>=1.12.0 in /Applications/Xcode.app/Contents/Developer/Library/Frameworks/Python3.framework/Versions/3.9/lib/python3.9/site-packages (from tensorflow) (1.15.0)\n",
      "Requirement already satisfied: wrapt>=1.11.0 in /Users/jaehyuntak/Library/Python/3.9/lib/python/site-packages (from tensorflow) (1.17.2)\n",
      "Requirement already satisfied: gast!=0.5.0,!=0.5.1,!=0.5.2,>=0.2.1 in /Users/jaehyuntak/Library/Python/3.9/lib/python/site-packages (from tensorflow) (0.6.0)\n",
      "Requirement already satisfied: wheel<1.0,>=0.23.0 in /Applications/Xcode.app/Contents/Developer/Library/Frameworks/Python3.framework/Versions/3.9/lib/python3.9/site-packages (from astunparse>=1.6.0->tensorflow) (0.37.0)\n",
      "Requirement already satisfied: optree in /Users/jaehyuntak/Library/Python/3.9/lib/python/site-packages (from keras>=3.5.0->tensorflow) (0.17.0)\n",
      "Requirement already satisfied: namex in /Users/jaehyuntak/Library/Python/3.9/lib/python/site-packages (from keras>=3.5.0->tensorflow) (0.1.0)\n",
      "Requirement already satisfied: rich in /Users/jaehyuntak/Library/Python/3.9/lib/python/site-packages (from keras>=3.5.0->tensorflow) (14.1.0)\n",
      "Requirement already satisfied: idna<4,>=2.5 in /Users/jaehyuntak/Library/Python/3.9/lib/python/site-packages (from requests<3,>=2.21.0->tensorflow) (3.6)\n",
      "Requirement already satisfied: charset-normalizer<4,>=2 in /Users/jaehyuntak/Library/Python/3.9/lib/python/site-packages (from requests<3,>=2.21.0->tensorflow) (3.3.2)\n",
      "Requirement already satisfied: urllib3<3,>=1.21.1 in /Users/jaehyuntak/Library/Python/3.9/lib/python/site-packages (from requests<3,>=2.21.0->tensorflow) (2.1.0)\n",
      "Requirement already satisfied: certifi>=2017.4.17 in /Users/jaehyuntak/Library/Python/3.9/lib/python/site-packages (from requests<3,>=2.21.0->tensorflow) (2023.11.17)\n",
      "Requirement already satisfied: tensorboard-data-server<0.8.0,>=0.7.0 in /Users/jaehyuntak/Library/Python/3.9/lib/python/site-packages (from tensorboard~=2.19.0->tensorflow) (0.7.2)\n",
      "Requirement already satisfied: werkzeug>=1.0.1 in /Users/jaehyuntak/Library/Python/3.9/lib/python/site-packages (from tensorboard~=2.19.0->tensorflow) (3.1.3)\n",
      "Requirement already satisfied: markdown>=2.6.8 in /Users/jaehyuntak/Library/Python/3.9/lib/python/site-packages (from tensorboard~=2.19.0->tensorflow) (3.8.2)\n",
      "Requirement already satisfied: importlib-metadata>=4.4 in /Users/jaehyuntak/Library/Python/3.9/lib/python/site-packages (from markdown>=2.6.8->tensorboard~=2.19.0->tensorflow) (7.0.1)\n",
      "Requirement already satisfied: zipp>=0.5 in /Users/jaehyuntak/Library/Python/3.9/lib/python/site-packages (from importlib-metadata>=4.4->markdown>=2.6.8->tensorboard~=2.19.0->tensorflow) (3.17.0)\n",
      "Requirement already satisfied: MarkupSafe>=2.1.1 in /Users/jaehyuntak/Library/Python/3.9/lib/python/site-packages (from werkzeug>=1.0.1->tensorboard~=2.19.0->tensorflow) (2.1.3)\n",
      "Requirement already satisfied: pygments<3.0.0,>=2.13.0 in /Users/jaehyuntak/Library/Python/3.9/lib/python/site-packages (from rich->keras>=3.5.0->tensorflow) (2.17.2)\n",
      "Requirement already satisfied: markdown-it-py>=2.2.0 in /Users/jaehyuntak/Library/Python/3.9/lib/python/site-packages (from rich->keras>=3.5.0->tensorflow) (3.0.0)\n",
      "Requirement already satisfied: mdurl~=0.1 in /Users/jaehyuntak/Library/Python/3.9/lib/python/site-packages (from markdown-it-py>=2.2.0->rich->keras>=3.5.0->tensorflow) (0.1.2)\n",
      "\u001b[33mWARNING: You are using pip version 21.2.4; however, version 25.1.1 is available.\n",
      "You should consider upgrading via the '/Applications/Xcode.app/Contents/Developer/usr/bin/python3 -m pip install --upgrade pip' command.\u001b[0m\n",
      "Note: you may need to restart the kernel to use updated packages.\n"
     ]
    }
   ],
   "source": [
    "# %pip install tensorflow\n",
    "\n",
    "\n",
    "\n",
    "\n"
   ]
  },
  {
   "cell_type": "code",
   "execution_count": 88,
   "id": "b686071f",
   "metadata": {},
   "outputs": [],
   "source": [
    "import numpy as np"
   ]
  },
  {
   "cell_type": "code",
   "execution_count": 90,
   "id": "ee090ef5",
   "metadata": {},
   "outputs": [
    {
     "ename": "AttributeError",
     "evalue": "module 'numpy' has no attribute 'concat'",
     "output_type": "error",
     "traceback": [
      "\u001b[0;31m---------------------------------------------------------------------------\u001b[0m",
      "\u001b[0;31mAttributeError\u001b[0m                            Traceback (most recent call last)",
      "Cell \u001b[0;32mIn[90], line 6\u001b[0m\n\u001b[1;32m      4\u001b[0m arr1 \u001b[38;5;241m=\u001b[39m np\u001b[38;5;241m.\u001b[39marray([\u001b[38;5;241m1\u001b[39m,\u001b[38;5;241m2\u001b[39m,\u001b[38;5;241m3\u001b[39m])\n\u001b[1;32m      5\u001b[0m arr2 \u001b[38;5;241m=\u001b[39m np\u001b[38;5;241m.\u001b[39marray([\u001b[38;5;241m4\u001b[39m,\u001b[38;5;241m5\u001b[39m,\u001b[38;5;241m6\u001b[39m])\n\u001b[0;32m----> 6\u001b[0m result \u001b[38;5;241m=\u001b[39m \u001b[43mnp\u001b[49m\u001b[38;5;241;43m.\u001b[39;49m\u001b[43mconcat\u001b[49m((arr1,arr2)) \u001b[38;5;66;03m#concaten : 이어 붙이다는 영단어\u001b[39;00m\n\u001b[1;32m      9\u001b[0m \u001b[38;5;66;03m# 2차원 배열 결합\u001b[39;00m\n\u001b[1;32m     11\u001b[0m arr2d1 \u001b[38;5;241m=\u001b[39m np\u001b[38;5;241m.\u001b[39marray([[\u001b[38;5;241m1\u001b[39m,\u001b[38;5;241m2\u001b[39m],[\u001b[38;5;241m3\u001b[39m,\u001b[38;5;241m4\u001b[39m]])\n",
      "File \u001b[0;32m~/Library/Python/3.9/lib/python/site-packages/numpy/__init__.py:333\u001b[0m, in \u001b[0;36m__getattr__\u001b[0;34m(attr)\u001b[0m\n\u001b[1;32m    330\u001b[0m     \u001b[38;5;124m\"\u001b[39m\u001b[38;5;124mRemoved in NumPy 1.25.0\u001b[39m\u001b[38;5;124m\"\u001b[39m\n\u001b[1;32m    331\u001b[0m     \u001b[38;5;28;01mraise\u001b[39;00m \u001b[38;5;167;01mRuntimeError\u001b[39;00m(\u001b[38;5;124m\"\u001b[39m\u001b[38;5;124mTester was removed in NumPy 1.25.\u001b[39m\u001b[38;5;124m\"\u001b[39m)\n\u001b[0;32m--> 333\u001b[0m \u001b[38;5;28;01mraise\u001b[39;00m \u001b[38;5;167;01mAttributeError\u001b[39;00m(\u001b[38;5;124m\"\u001b[39m\u001b[38;5;124mmodule \u001b[39m\u001b[38;5;132;01m{!r}\u001b[39;00m\u001b[38;5;124m has no attribute \u001b[39m\u001b[38;5;124m\"\u001b[39m\n\u001b[1;32m    334\u001b[0m                      \u001b[38;5;124m\"\u001b[39m\u001b[38;5;132;01m{!r}\u001b[39;00m\u001b[38;5;124m\"\u001b[39m\u001b[38;5;241m.\u001b[39mformat(\u001b[38;5;18m__name__\u001b[39m, attr))\n",
      "\u001b[0;31mAttributeError\u001b[0m: module 'numpy' has no attribute 'concat'"
     ]
    }
   ],
   "source": [
    "# ???\n",
    "\n",
    "# 1차원 배열 결합\n",
    "arr1 = np.array([1,2,3])\n",
    "arr2 = np.array([4,5,6])\n",
    "result = np.concat((arr1,arr2)) #concaten : 이어 붙이다는 영단어\n",
    "\n",
    "\n",
    "# 2차원 배열 결합\n",
    "\n",
    "arr2d1 = np.array([[1,2],[3,4]])\n",
    "arr2d2 = np.array([[5,6],[7,8]])\n",
    "\n",
    "\n"
   ]
  },
  {
   "cell_type": "markdown",
   "id": "c61352a0",
   "metadata": {},
   "source": [
    "# [강사님 자료](https://github.com/verba-neo/gaida-1/blob/main/%EB%8D%B0%EC%9D%B4%ED%84%B0%EB%B6%84%EC%84%9D/01_numpy.ipynb)"
   ]
  },
  {
   "cell_type": "code",
   "execution_count": 91,
   "id": "633dee30",
   "metadata": {},
   "outputs": [
    {
     "ename": "AttributeError",
     "evalue": "module 'numpy' has no attribute 'concat'",
     "output_type": "error",
     "traceback": [
      "\u001b[0;31m---------------------------------------------------------------------------\u001b[0m",
      "\u001b[0;31mAttributeError\u001b[0m                            Traceback (most recent call last)",
      "Cell \u001b[0;32mIn[91], line 4\u001b[0m\n\u001b[1;32m      2\u001b[0m arr1 \u001b[38;5;241m=\u001b[39m np\u001b[38;5;241m.\u001b[39marray([\u001b[38;5;241m1\u001b[39m, \u001b[38;5;241m2\u001b[39m, \u001b[38;5;241m3\u001b[39m])\n\u001b[1;32m      3\u001b[0m arr2 \u001b[38;5;241m=\u001b[39m np\u001b[38;5;241m.\u001b[39marray([\u001b[38;5;241m4\u001b[39m, \u001b[38;5;241m5\u001b[39m, \u001b[38;5;241m6\u001b[39m])\n\u001b[0;32m----> 4\u001b[0m result \u001b[38;5;241m=\u001b[39m \u001b[43mnp\u001b[49m\u001b[38;5;241;43m.\u001b[39;49m\u001b[43mconcat\u001b[49m( (arr1, arr2) )  \u001b[38;5;66;03m# np.concatenate 도 같음\u001b[39;00m\n\u001b[1;32m      5\u001b[0m \u001b[38;5;28mprint\u001b[39m(result)\n\u001b[1;32m      7\u001b[0m \u001b[38;5;66;03m# 2차원 배열 결합\u001b[39;00m\n",
      "File \u001b[0;32m~/Library/Python/3.9/lib/python/site-packages/numpy/__init__.py:333\u001b[0m, in \u001b[0;36m__getattr__\u001b[0;34m(attr)\u001b[0m\n\u001b[1;32m    330\u001b[0m     \u001b[38;5;124m\"\u001b[39m\u001b[38;5;124mRemoved in NumPy 1.25.0\u001b[39m\u001b[38;5;124m\"\u001b[39m\n\u001b[1;32m    331\u001b[0m     \u001b[38;5;28;01mraise\u001b[39;00m \u001b[38;5;167;01mRuntimeError\u001b[39;00m(\u001b[38;5;124m\"\u001b[39m\u001b[38;5;124mTester was removed in NumPy 1.25.\u001b[39m\u001b[38;5;124m\"\u001b[39m)\n\u001b[0;32m--> 333\u001b[0m \u001b[38;5;28;01mraise\u001b[39;00m \u001b[38;5;167;01mAttributeError\u001b[39;00m(\u001b[38;5;124m\"\u001b[39m\u001b[38;5;124mmodule \u001b[39m\u001b[38;5;132;01m{!r}\u001b[39;00m\u001b[38;5;124m has no attribute \u001b[39m\u001b[38;5;124m\"\u001b[39m\n\u001b[1;32m    334\u001b[0m                      \u001b[38;5;124m\"\u001b[39m\u001b[38;5;132;01m{!r}\u001b[39;00m\u001b[38;5;124m\"\u001b[39m\u001b[38;5;241m.\u001b[39mformat(\u001b[38;5;18m__name__\u001b[39m, attr))\n",
      "\u001b[0;31mAttributeError\u001b[0m: module 'numpy' has no attribute 'concat'"
     ]
    }
   ],
   "source": [
    "\n",
    "# 1차원 배열 결합\n",
    "arr1 = np.array([1, 2, 3])\n",
    "arr2 = np.array([4, 5, 6])\n",
    "result = np.concat( (arr1, arr2) )  # np.concatenate 도 같음\n",
    "print(result)\n",
    "\n",
    "# 2차원 배열 결합\n",
    "arr2d1 = np.array([ [1, 2], [3, 4] ])\n",
    "arr2d2 = np.array([ [5, 6], [7, 8] ])\n",
    "\n",
    "# concat, axis=0 == vstack\n",
    "result2 = np.concat( (arr2d1, arr2d2), axis=0)\n",
    "result22 = np.vstack( (arr2d1, arr2d2) )\n",
    "print(result2)\n",
    "print(result22)\n",
    "# concat, axis=1 == hstack\n",
    "result3 = np.concat( (arr2d1, arr2d2), axis=1)\n",
    "result33 = np.hstack( (arr2d1, arr2d2) )\n",
    "print(result3)\n",
    "\n",
    "# matrix 두개를 겹친다 => Tensor\n",
    "result4 = np.dstack( (arr2d1, arr2d2) )\n",
    "print(result4)"
   ]
  },
  {
   "cell_type": "code",
   "execution_count": null,
   "id": "0357fd56",
   "metadata": {},
   "outputs": [
    {
     "name": "stdout",
     "output_type": "stream",
     "text": [
      "[[1]\n",
      " [2]\n",
      " [3]] (3, 1)\n",
      "[1 2 3]\n",
      "[[[1 2 3]]] (1, 1, 3)\n",
      "[[1 2 3]]\n",
      "[[1 2 3]]\n"
     ]
    }
   ],
   "source": [
    "# 차원 축소 | squeeze\n",
    "\n",
    "\n",
    "\n",
    "arr = np.array([[1],[2],[3]])\n",
    "print(arr,arr.shape)\n",
    "\n",
    "# 모든 단일 차원 (shape에서 1 나온 것들 제거)\n",
    "print(np.squeeze(arr))\n",
    "\n",
    "# 특정 축만 제거\n",
    "arr2 = np.array([[[1,2,3]]])\n",
    "print(arr2,arr2.shape) #113 \n",
    "\n",
    "arr_3d = arr2\n",
    "\n",
    "print(np.squeeze(arr2, axis=1)) #13\n",
    "#----\n",
    "arr_2d = np.squeeze(arr2, axis=1)\n",
    "\n",
    "print(arr_2d)\n",
    "\n",
    "\n",
    "\n",
    "\n"
   ]
  },
  {
   "cell_type": "markdown",
   "id": "e4f729d4",
   "metadata": {},
   "source": [
    "# 유틸리티 함수"
   ]
  },
  {
   "cell_type": "markdown",
   "id": "6159b231",
   "metadata": {},
   "source": []
  },
  {
   "cell_type": "code",
   "execution_count": 45,
   "id": "0e40225d",
   "metadata": {},
   "outputs": [
    {
     "name": "stdout",
     "output_type": "stream",
     "text": [
      "[0 1 2 3 4 5 6 7 8 9]\n",
      "(array([0, 2, 4, 6, 8]),)\n",
      "['짝수' '홀수' '짝수' '홀수' '짝수' '홀수' '짝수' '홀수' '짝수' '홀수']\n",
      "[[3 7 8]\n",
      " [3 6 9]\n",
      " [7 7 9]]\n",
      "[[ 3 14 16]\n",
      " [ 3 12 18]\n",
      " [14 14 18]]\n"
     ]
    }
   ],
   "source": [
    "# where \n",
    "\n",
    "arr = np.arange(10)\n",
    "\n",
    "print(arr)\n",
    "\n",
    "# 벡터 예시\n",
    "# 단순 필터링 : 짝수 예시 \n",
    "print(np.where(arr %2==0)\n",
    "      )\n",
    "\n",
    "print(np.where(arr%2==0,'짝수','홀수'))\n",
    "\n",
    "# 메트릭스 예시\n",
    "# 0~10까지 랜덤으로 3x3\n",
    "arr2d = np.random.randint(0,10,(3,3))\n",
    "print(arr2d)\n",
    "\n",
    "# 조건만 걸면, 좌표가 나옴\n",
    "np.where(arr2d>5) \n",
    "\n",
    "# 5보다 큰 값들은 *2, 아니면 그대로\n",
    "print(np.where(arr2d > 5, arr2d *2, arr2d))\n",
    "\n",
    "# 좌표값 사용하는건가???\n",
    "\n",
    "# 그냥 고건에 맞는 값들만 보고 싶으면 \n",
    "\n",
    "\n"
   ]
  },
  {
   "cell_type": "code",
   "execution_count": null,
   "id": "f3b75f5d",
   "metadata": {},
   "outputs": [
    {
     "name": "stdout",
     "output_type": "stream",
     "text": [
      "1 3\n",
      "[[2 3 0]\n",
      " [7 1 1]\n",
      " [1 4 4]]\n",
      "[1 0 1]\n",
      "[2 1 0]\n"
     ]
    }
   ],
   "source": [
    "# argmax, argmin\n",
    "\n",
    "# 벡터에서 최대/최소 위치\n",
    "arr = np.array([3,5,1,0,4])\n",
    "\n",
    "max_idx = np.argmax(arr)\n",
    "min_idx = np.argmin(arr)\n",
    "\n",
    "print(max_idx,min_idx)\n",
    "\n",
    "# 매트릭스에서 최대/최소\n",
    "\n",
    "np.random.seed(24) # seed는 고정이야\n",
    "arr2d = np.random.randint(0,10,(3,3))\n",
    "print(arr2d)\n",
    "\n",
    "row_max = np.argmax(arr2d,axis=1)\n",
    "\n",
    "print(row_max)\n",
    "\n",
    "col_min = np.argmin(arr2d,axis=0)\n",
    "print(col_min)\n",
    "\n",
    "\n"
   ]
  },
  {
   "cell_type": "code",
   "execution_count": 23,
   "id": "1aaaa711",
   "metadata": {},
   "outputs": [
    {
     "name": "stdout",
     "output_type": "stream",
     "text": [
      "[1 2 3 4]\n",
      "[1 2 3 4]\n",
      "[1 2 3 4]\n",
      "[2 3 4 2]\n",
      "{1: 2, 2: 3, 3: 4, 4: 2}\n"
     ]
    }
   ],
   "source": [
    "# unique 고유값 찾기\n",
    "from enum import unique\n",
    "\n",
    "\n",
    "arr = np.array([1,2,3,2,3,4,3,4,1,3,2])\n",
    "\n",
    "unique_values = np.unique(arr)\n",
    "print(unique_values)\n",
    "\n",
    "np.unique(arr, return_counts=True)\n",
    "\n",
    "# 값들만\n",
    "unique_values = np.unique(arr)\n",
    "print(unique_values)\n",
    "\n",
    "# 값들 , 개수\n",
    "values, count =np.unique(arr, return_counts=True)\n",
    "\n",
    "print(values)\n",
    "print(count)\n",
    "\n",
    "# 값들, 개수 -> dict\n",
    "freq_dict = dict(zip(values,count))\n",
    "print(freq_dict)\n",
    "\n",
    "# 가장 많이 등장하는 숫자 찾기\n"
   ]
  },
  {
   "cell_type": "code",
   "execution_count": 28,
   "id": "a86a0434",
   "metadata": {},
   "outputs": [
    {
     "name": "stdout",
     "output_type": "stream",
     "text": [
      "[0 1 3 4 5]\n",
      "[5 4 3 1 0]\n",
      "[3 2 0 4 1]\n",
      "[0 1 3 4 5]\n"
     ]
    }
   ],
   "source": [
    "# sort, argsort\n",
    "\n",
    "arr = np.array([3,5,1,0,4])\n",
    "\n",
    "# 오름차순 정렬 ASC\n",
    "print(np.sort(arr))\n",
    "\n",
    "# 내림차순 정렬 DESC\n",
    "print(np.sort(arr)[::-1]) # 뒤집어주는 flip기능도 있긴한데 굳이 쓸 필요는?\n",
    "\n",
    "\n",
    "# 정렬 후, 원래 인덱스를 반환\n",
    "np.argsort(arr) \n",
    "\n",
    "# 정렬하기 위한 인덱스 배치\n",
    "\n",
    "idx = np.argsort(arr) \n",
    "print(idx)\n",
    "\n",
    "print(arr[idx])\n",
    "\n",
    "\n",
    "\n"
   ]
  },
  {
   "cell_type": "markdown",
   "id": "77159614",
   "metadata": {},
   "source": [
    "# Matrix 정렬"
   ]
  },
  {
   "cell_type": "code",
   "execution_count": 32,
   "id": "60ac8073",
   "metadata": {},
   "outputs": [
    {
     "name": "stdout",
     "output_type": "stream",
     "text": [
      "[[0 5 2 4]\n",
      " [6 0 8 6]\n",
      " [2 5 7 4]]\n",
      "[[0 2 4 5]\n",
      " [0 6 6 8]\n",
      " [2 4 5 7]]\n",
      "[[6 5 8 6]\n",
      " [2 5 7 4]\n",
      " [0 0 2 4]]\n"
     ]
    }
   ],
   "source": [
    "# Matrix 정렬\n",
    "arr2d = np.random.randint(0, 10, (3,4))\n",
    "print(arr2d)\n",
    "\n",
    "\n",
    "# 행별 정렬\n",
    "row_sorted =np.sort(arr2d, axis=1)\n",
    "print(row_sorted)\n",
    "\n",
    "\n",
    "# 열별 정렬\n",
    "col_sorted =np.sort(arr2d, axis=0)[::-1]\n",
    "print(col_sorted)\n"
   ]
  },
  {
   "cell_type": "code",
   "execution_count": 37,
   "id": "0e274c08",
   "metadata": {},
   "outputs": [
    {
     "name": "stdout",
     "output_type": "stream",
     "text": [
      "[[85 90 75 95 70 80 65 75 90 85]\n",
      " [90 85 80 95 70 75 65 80 85 90]\n",
      " [80 85 90 80 75 90 70 75 85 95]]\n",
      "[[85 90 75 95 70 80 65 75 90 85]\n",
      " [90 85 80 95 70 75 65 80 85 90]\n",
      " [80 85 90 80 75 90 70 75 85 95]]\n"
     ]
    }
   ],
   "source": [
    "# 가상의 학생 시험 점수 데이터\n",
    "math_scores = np.array([85, 90, 75, 95, 70, 80, 65, 75, 90, 85])\n",
    "science_scores = np.array([90, 85, 80, 95, 70, 75, 65, 80, 85, 90])\n",
    "english_scores = np.array([80, 85, 90, 80, 75, 90, 70, 75, 85, 95])\n",
    "\n",
    "subjects = ['수학', '과학', '영어']\n",
    "scores = np.vstack((math_scores, science_scores, english_scores))\n",
    "\n",
    "print(scores)\n",
    "\n",
    "print(np.array(scores))\n",
    "\n",
    "\n"
   ]
  },
  {
   "cell_type": "code",
   "execution_count": null,
   "id": "60f1cd39",
   "metadata": {},
   "outputs": [
    {
     "name": "stdout",
     "output_type": "stream",
     "text": [
      "[81.  81.5 82.5]\n",
      "[82.5 82.5 82.5]\n",
      "[9.16515139 8.95823643 7.5       ]\n",
      "[65 65 70]\n",
      "[95 95 95]\n"
     ]
    }
   ],
   "source": [
    "# 기본 통계 (과목별 평균, 중앙값, *표준편차*, 최소, 최대)\n",
    "subject_avg = np.mean(scores, axis=1)\n",
    "\n",
    "print(subject_avg)\n",
    "print(np.median(scores,axis=1))\n",
    "print(np.std(scores,axis=1))\n",
    "print(np.min(scores,axis=1))\n",
    "print(np.max(scores,axis=1))\n",
    "\n",
    "\n",
    "\n",
    "\n"
   ]
  },
  {
   "cell_type": "code",
   "execution_count": 58,
   "id": "942cd378",
   "metadata": {},
   "outputs": [
    {
     "name": "stdout",
     "output_type": "stream",
     "text": [
      "[255 260 245 270 215 245 200 230 260 270]\n",
      "[9 3 8 1 0 5 2 7 4 6]\n",
      "[8 3 9]\n",
      "[7 2 0]\n"
     ]
    }
   ],
   "source": [
    "# 총점 기준 상위 3명 학생의 정보 표시\n",
    "# | 학생번호(idx) | 수학 | 과학 | 영어 | 총점 |\n",
    "\n",
    "\n",
    "## 총점 기준 : 수학, 과학, 영어의 총합\n",
    "total_scores = np.sum(scores,axis=0)\n",
    "print(total_scores)\n",
    "\n",
    "desc_scores = np.argsort(total_scores)[:: -1]  # [::-1] DESC라고 위쪽에 나와 있음\n",
    "print(desc_scores)\n",
    "\n",
    "print(np.argsort(total_scores)[-3:])\n",
    "\n",
    "ranker3_scores = np.argsort(desc_scores)[-3:]\n",
    "print(ranker3_scores)\n",
    "\n",
    "\n",
    "\n",
    "\n",
    "### 행렬을 뷰 단위로 (위, 아래로 합쳐서 메트릭스를 벡터화하고 거기서 가장 큰 값 3위까지 탐색해서 좌표를 추출하면 된다.)\n",
    "### 그 다음 좌표를 인덱스로 각각의 행에서 뽑으면 되는 것이고 \n",
    "\n",
    "\n"
   ]
  },
  {
   "cell_type": "code",
   "execution_count": null,
   "id": "0d4e2598",
   "metadata": {},
   "outputs": [],
   "source": [
    "# 기본 통계 (과목별 평균, 중앙값, *표준편차*, 최소, 최대)\n",
    "\n",
    "from numpy import median\n",
    "\n",
    "\n",
    "for idx, subject in enumerate(scores): # 'enumerate' 나 이거 몰라 / 인덱스와 값을 동시에 반복할 수 있게 해주는 함수\n",
    "    mean_score = np.mean(subject)\n",
    "    # 평균 mean\n",
    "    mean_score = np.mean(subject)\n",
    "    # 중앙값 median\n",
    "    median_score = np.median(subject)\n",
    "    # 표준편차 standard\n",
    "    std_dev = np.std(subject)\n",
    "    # 최소 min\n",
    "    min_score = np.min(subject)\n",
    "    # 최소 max \n",
    "    max_score = np.max(subject)\n",
    "\n",
    "\n",
    "\n",
    "    # print에서 \\ 역슬래쉬하면 줄띄기 됨\n"
   ]
  },
  {
   "cell_type": "code",
   "execution_count": 66,
   "id": "1765b6a4",
   "metadata": {},
   "outputs": [
    {
     "name": "stdout",
     "output_type": "stream",
     "text": [
      "[255 260 245 270 215 245 200 230 260 270]\n",
      "학생 번호 | 수학 | 과학 | 영어 | 총점 \n",
      "  10    |85  |  90  |95 |270\n",
      "   4    |95  |  95  |80 |270\n",
      "   9    |90  |  85  |85 |260\n"
     ]
    }
   ],
   "source": [
    "# 총점 기준 상위 3명 학생의 정보 표시\n",
    "# | 학생번호(idx) | 수학 | 과학 | 영어 | 총점 |\n",
    "\n",
    "# 과목 총점 배열\n",
    "total_scores = np.sum(scores,axis=0)\n",
    "\n",
    "print(total_scores)\n",
    "\n",
    "# 총점 desc 정렬 후 3명 잘라서 idx만 내놔\n",
    "top_students = np.argsort(total_scores) [::-1][:3]\n",
    "\n",
    "print('학생 번호 | 수학 | 과학 | 영어 | 총점 ')\n",
    "for idx in top_students:\n",
    "    print(\n",
    "        f'{idx+1:^7} |{math_scores[idx]:^3} | {science_scores[idx]:^4} |' # ^7 7칸 정렬\n",
    "        f'{english_scores[idx]:^3}|{total_scores[idx]}'\n",
    "    )\n",
    "\n"
   ]
  },
  {
   "cell_type": "code",
   "execution_count": 67,
   "id": "0a253b4e",
   "metadata": {},
   "outputs": [
    {
     "name": "stdout",
     "output_type": "stream",
     "text": [
      "과목 간 상관관계:\n",
      "수학-과학 상관계수: 0.8952\n",
      "수학-영어 상관계수: 0.4728\n",
      "과학-영어 상관계수: 0.4651\n"
     ]
    }
   ],
   "source": [
    "# 과목별 상관관계\n",
    "\n",
    "correlation = np.corrcoef(scores)\n",
    "print(\"과목 간 상관관계:\")\n",
    "for i in range(3):\n",
    "    for j in range(i+1, 3):\n",
    "        print(f\"{subjects[i]}-{subjects[j]} 상관계수: {correlation[i, j]:.4f}\")"
   ]
  }
 ],
 "metadata": {
  "kernelspec": {
   "display_name": "Python 3",
   "language": "python",
   "name": "python3"
  },
  "language_info": {
   "codemirror_mode": {
    "name": "ipython",
    "version": 3
   },
   "file_extension": ".py",
   "mimetype": "text/x-python",
   "name": "python",
   "nbconvert_exporter": "python",
   "pygments_lexer": "ipython3",
   "version": "3.9.6"
  }
 },
 "nbformat": 4,
 "nbformat_minor": 5
}
